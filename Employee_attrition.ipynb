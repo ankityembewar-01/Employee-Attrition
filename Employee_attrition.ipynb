{
 "cells": [
  {
   "cell_type": "markdown",
   "metadata": {
    "id": "_ErtQyv8lyFP"
   },
   "source": [
    "\n",
    "## Basic Imports"
   ]
  },
  {
   "cell_type": "code",
   "execution_count": null,
   "metadata": {
    "id": "TqkoC-xQcmsE"
   },
   "outputs": [],
   "source": [
    "import numpy as np \n",
    "import pandas as pd\n",
    "import seaborn as sns\n",
    "import matplotlib.pyplot as plt\n",
    "import warnings\n",
    "warnings.filterwarnings(\"ignore\")"
   ]
  },
  {
   "cell_type": "markdown",
   "metadata": {
    "id": "Z8glFpvAmGQ3"
   },
   "source": [
    "## Reading a csv file"
   ]
  },
  {
   "cell_type": "code",
   "execution_count": null,
   "metadata": {
    "id": "gow6Fp-jdRTY"
   },
   "outputs": [],
   "source": [
    "df = pd.read_csv(\"Employee-Attrition.csv\")"
   ]
  },
  {
   "cell_type": "code",
   "execution_count": null,
   "metadata": {
    "colab": {
     "base_uri": "https://localhost:8080/",
     "height": 588
    },
    "id": "OkQGpLgbdhbC",
    "outputId": "95c593b9-5abf-4b7a-d44a-c98c18bda535"
   },
   "outputs": [
    {
     "data": {
      "text/html": [
       "<div>\n",
       "<style scoped>\n",
       "    .dataframe tbody tr th:only-of-type {\n",
       "        vertical-align: middle;\n",
       "    }\n",
       "\n",
       "    .dataframe tbody tr th {\n",
       "        vertical-align: top;\n",
       "    }\n",
       "\n",
       "    .dataframe thead th {\n",
       "        text-align: right;\n",
       "    }\n",
       "</style>\n",
       "<table border=\"1\" class=\"dataframe\">\n",
       "  <thead>\n",
       "    <tr style=\"text-align: right;\">\n",
       "      <th></th>\n",
       "      <th>Age</th>\n",
       "      <th>Attrition</th>\n",
       "      <th>BusinessTravel</th>\n",
       "      <th>DailyRate</th>\n",
       "      <th>Department</th>\n",
       "      <th>DistanceFromHome</th>\n",
       "      <th>Education</th>\n",
       "      <th>EducationField</th>\n",
       "      <th>EmployeeCount</th>\n",
       "      <th>EmployeeNumber</th>\n",
       "      <th>EnvironmentSatisfaction</th>\n",
       "      <th>Gender</th>\n",
       "      <th>HourlyRate</th>\n",
       "      <th>JobInvolvement</th>\n",
       "      <th>JobLevel</th>\n",
       "      <th>JobRole</th>\n",
       "      <th>JobSatisfaction</th>\n",
       "      <th>MaritalStatus</th>\n",
       "      <th>MonthlyIncome</th>\n",
       "      <th>MonthlyRate</th>\n",
       "      <th>NumCompaniesWorked</th>\n",
       "      <th>Over18</th>\n",
       "      <th>OverTime</th>\n",
       "      <th>PercentSalaryHike</th>\n",
       "      <th>PerformanceRating</th>\n",
       "      <th>RelationshipSatisfaction</th>\n",
       "      <th>StandardHours</th>\n",
       "      <th>StockOptionLevel</th>\n",
       "      <th>TotalWorkingYears</th>\n",
       "      <th>TrainingTimesLastYear</th>\n",
       "      <th>WorkLifeBalance</th>\n",
       "      <th>YearsAtCompany</th>\n",
       "      <th>YearsInCurrentRole</th>\n",
       "      <th>YearsSinceLastPromotion</th>\n",
       "      <th>YearsWithCurrManager</th>\n",
       "    </tr>\n",
       "  </thead>\n",
       "  <tbody>\n",
       "    <tr>\n",
       "      <th>0</th>\n",
       "      <td>41</td>\n",
       "      <td>Yes</td>\n",
       "      <td>Travel_Rarely</td>\n",
       "      <td>1102</td>\n",
       "      <td>Sales</td>\n",
       "      <td>1</td>\n",
       "      <td>2</td>\n",
       "      <td>Life Sciences</td>\n",
       "      <td>1</td>\n",
       "      <td>1</td>\n",
       "      <td>2</td>\n",
       "      <td>Female</td>\n",
       "      <td>94</td>\n",
       "      <td>3</td>\n",
       "      <td>2</td>\n",
       "      <td>Sales Executive</td>\n",
       "      <td>4</td>\n",
       "      <td>Single</td>\n",
       "      <td>5993</td>\n",
       "      <td>19479</td>\n",
       "      <td>8</td>\n",
       "      <td>Y</td>\n",
       "      <td>Yes</td>\n",
       "      <td>11</td>\n",
       "      <td>3</td>\n",
       "      <td>1</td>\n",
       "      <td>80</td>\n",
       "      <td>0</td>\n",
       "      <td>8</td>\n",
       "      <td>0</td>\n",
       "      <td>1</td>\n",
       "      <td>6</td>\n",
       "      <td>4</td>\n",
       "      <td>0</td>\n",
       "      <td>5</td>\n",
       "    </tr>\n",
       "    <tr>\n",
       "      <th>1</th>\n",
       "      <td>49</td>\n",
       "      <td>No</td>\n",
       "      <td>Travel_Frequently</td>\n",
       "      <td>279</td>\n",
       "      <td>Research &amp; Development</td>\n",
       "      <td>8</td>\n",
       "      <td>1</td>\n",
       "      <td>Life Sciences</td>\n",
       "      <td>1</td>\n",
       "      <td>2</td>\n",
       "      <td>3</td>\n",
       "      <td>Male</td>\n",
       "      <td>61</td>\n",
       "      <td>2</td>\n",
       "      <td>2</td>\n",
       "      <td>Research Scientist</td>\n",
       "      <td>2</td>\n",
       "      <td>Married</td>\n",
       "      <td>5130</td>\n",
       "      <td>24907</td>\n",
       "      <td>1</td>\n",
       "      <td>Y</td>\n",
       "      <td>No</td>\n",
       "      <td>23</td>\n",
       "      <td>4</td>\n",
       "      <td>4</td>\n",
       "      <td>80</td>\n",
       "      <td>1</td>\n",
       "      <td>10</td>\n",
       "      <td>3</td>\n",
       "      <td>3</td>\n",
       "      <td>10</td>\n",
       "      <td>7</td>\n",
       "      <td>1</td>\n",
       "      <td>7</td>\n",
       "    </tr>\n",
       "    <tr>\n",
       "      <th>2</th>\n",
       "      <td>37</td>\n",
       "      <td>Yes</td>\n",
       "      <td>Travel_Rarely</td>\n",
       "      <td>1373</td>\n",
       "      <td>Research &amp; Development</td>\n",
       "      <td>2</td>\n",
       "      <td>2</td>\n",
       "      <td>Other</td>\n",
       "      <td>1</td>\n",
       "      <td>4</td>\n",
       "      <td>4</td>\n",
       "      <td>Male</td>\n",
       "      <td>92</td>\n",
       "      <td>2</td>\n",
       "      <td>1</td>\n",
       "      <td>Laboratory Technician</td>\n",
       "      <td>3</td>\n",
       "      <td>Single</td>\n",
       "      <td>2090</td>\n",
       "      <td>2396</td>\n",
       "      <td>6</td>\n",
       "      <td>Y</td>\n",
       "      <td>Yes</td>\n",
       "      <td>15</td>\n",
       "      <td>3</td>\n",
       "      <td>2</td>\n",
       "      <td>80</td>\n",
       "      <td>0</td>\n",
       "      <td>7</td>\n",
       "      <td>3</td>\n",
       "      <td>3</td>\n",
       "      <td>0</td>\n",
       "      <td>0</td>\n",
       "      <td>0</td>\n",
       "      <td>0</td>\n",
       "    </tr>\n",
       "    <tr>\n",
       "      <th>3</th>\n",
       "      <td>33</td>\n",
       "      <td>No</td>\n",
       "      <td>Travel_Frequently</td>\n",
       "      <td>1392</td>\n",
       "      <td>Research &amp; Development</td>\n",
       "      <td>3</td>\n",
       "      <td>4</td>\n",
       "      <td>Life Sciences</td>\n",
       "      <td>1</td>\n",
       "      <td>5</td>\n",
       "      <td>4</td>\n",
       "      <td>Female</td>\n",
       "      <td>56</td>\n",
       "      <td>3</td>\n",
       "      <td>1</td>\n",
       "      <td>Research Scientist</td>\n",
       "      <td>3</td>\n",
       "      <td>Married</td>\n",
       "      <td>2909</td>\n",
       "      <td>23159</td>\n",
       "      <td>1</td>\n",
       "      <td>Y</td>\n",
       "      <td>Yes</td>\n",
       "      <td>11</td>\n",
       "      <td>3</td>\n",
       "      <td>3</td>\n",
       "      <td>80</td>\n",
       "      <td>0</td>\n",
       "      <td>8</td>\n",
       "      <td>3</td>\n",
       "      <td>3</td>\n",
       "      <td>8</td>\n",
       "      <td>7</td>\n",
       "      <td>3</td>\n",
       "      <td>0</td>\n",
       "    </tr>\n",
       "    <tr>\n",
       "      <th>4</th>\n",
       "      <td>27</td>\n",
       "      <td>No</td>\n",
       "      <td>Travel_Rarely</td>\n",
       "      <td>591</td>\n",
       "      <td>Research &amp; Development</td>\n",
       "      <td>2</td>\n",
       "      <td>1</td>\n",
       "      <td>Medical</td>\n",
       "      <td>1</td>\n",
       "      <td>7</td>\n",
       "      <td>1</td>\n",
       "      <td>Male</td>\n",
       "      <td>40</td>\n",
       "      <td>3</td>\n",
       "      <td>1</td>\n",
       "      <td>Laboratory Technician</td>\n",
       "      <td>2</td>\n",
       "      <td>Married</td>\n",
       "      <td>3468</td>\n",
       "      <td>16632</td>\n",
       "      <td>9</td>\n",
       "      <td>Y</td>\n",
       "      <td>No</td>\n",
       "      <td>12</td>\n",
       "      <td>3</td>\n",
       "      <td>4</td>\n",
       "      <td>80</td>\n",
       "      <td>1</td>\n",
       "      <td>6</td>\n",
       "      <td>3</td>\n",
       "      <td>3</td>\n",
       "      <td>2</td>\n",
       "      <td>2</td>\n",
       "      <td>2</td>\n",
       "      <td>2</td>\n",
       "    </tr>\n",
       "    <tr>\n",
       "      <th>...</th>\n",
       "      <td>...</td>\n",
       "      <td>...</td>\n",
       "      <td>...</td>\n",
       "      <td>...</td>\n",
       "      <td>...</td>\n",
       "      <td>...</td>\n",
       "      <td>...</td>\n",
       "      <td>...</td>\n",
       "      <td>...</td>\n",
       "      <td>...</td>\n",
       "      <td>...</td>\n",
       "      <td>...</td>\n",
       "      <td>...</td>\n",
       "      <td>...</td>\n",
       "      <td>...</td>\n",
       "      <td>...</td>\n",
       "      <td>...</td>\n",
       "      <td>...</td>\n",
       "      <td>...</td>\n",
       "      <td>...</td>\n",
       "      <td>...</td>\n",
       "      <td>...</td>\n",
       "      <td>...</td>\n",
       "      <td>...</td>\n",
       "      <td>...</td>\n",
       "      <td>...</td>\n",
       "      <td>...</td>\n",
       "      <td>...</td>\n",
       "      <td>...</td>\n",
       "      <td>...</td>\n",
       "      <td>...</td>\n",
       "      <td>...</td>\n",
       "      <td>...</td>\n",
       "      <td>...</td>\n",
       "      <td>...</td>\n",
       "    </tr>\n",
       "    <tr>\n",
       "      <th>1465</th>\n",
       "      <td>36</td>\n",
       "      <td>No</td>\n",
       "      <td>Travel_Frequently</td>\n",
       "      <td>884</td>\n",
       "      <td>Research &amp; Development</td>\n",
       "      <td>23</td>\n",
       "      <td>2</td>\n",
       "      <td>Medical</td>\n",
       "      <td>1</td>\n",
       "      <td>2061</td>\n",
       "      <td>3</td>\n",
       "      <td>Male</td>\n",
       "      <td>41</td>\n",
       "      <td>4</td>\n",
       "      <td>2</td>\n",
       "      <td>Laboratory Technician</td>\n",
       "      <td>4</td>\n",
       "      <td>Married</td>\n",
       "      <td>2571</td>\n",
       "      <td>12290</td>\n",
       "      <td>4</td>\n",
       "      <td>Y</td>\n",
       "      <td>No</td>\n",
       "      <td>17</td>\n",
       "      <td>3</td>\n",
       "      <td>3</td>\n",
       "      <td>80</td>\n",
       "      <td>1</td>\n",
       "      <td>17</td>\n",
       "      <td>3</td>\n",
       "      <td>3</td>\n",
       "      <td>5</td>\n",
       "      <td>2</td>\n",
       "      <td>0</td>\n",
       "      <td>3</td>\n",
       "    </tr>\n",
       "    <tr>\n",
       "      <th>1466</th>\n",
       "      <td>39</td>\n",
       "      <td>No</td>\n",
       "      <td>Travel_Rarely</td>\n",
       "      <td>613</td>\n",
       "      <td>Research &amp; Development</td>\n",
       "      <td>6</td>\n",
       "      <td>1</td>\n",
       "      <td>Medical</td>\n",
       "      <td>1</td>\n",
       "      <td>2062</td>\n",
       "      <td>4</td>\n",
       "      <td>Male</td>\n",
       "      <td>42</td>\n",
       "      <td>2</td>\n",
       "      <td>3</td>\n",
       "      <td>Healthcare Representative</td>\n",
       "      <td>1</td>\n",
       "      <td>Married</td>\n",
       "      <td>9991</td>\n",
       "      <td>21457</td>\n",
       "      <td>4</td>\n",
       "      <td>Y</td>\n",
       "      <td>No</td>\n",
       "      <td>15</td>\n",
       "      <td>3</td>\n",
       "      <td>1</td>\n",
       "      <td>80</td>\n",
       "      <td>1</td>\n",
       "      <td>9</td>\n",
       "      <td>5</td>\n",
       "      <td>3</td>\n",
       "      <td>7</td>\n",
       "      <td>7</td>\n",
       "      <td>1</td>\n",
       "      <td>7</td>\n",
       "    </tr>\n",
       "    <tr>\n",
       "      <th>1467</th>\n",
       "      <td>27</td>\n",
       "      <td>No</td>\n",
       "      <td>Travel_Rarely</td>\n",
       "      <td>155</td>\n",
       "      <td>Research &amp; Development</td>\n",
       "      <td>4</td>\n",
       "      <td>3</td>\n",
       "      <td>Life Sciences</td>\n",
       "      <td>1</td>\n",
       "      <td>2064</td>\n",
       "      <td>2</td>\n",
       "      <td>Male</td>\n",
       "      <td>87</td>\n",
       "      <td>4</td>\n",
       "      <td>2</td>\n",
       "      <td>Manufacturing Director</td>\n",
       "      <td>2</td>\n",
       "      <td>Married</td>\n",
       "      <td>6142</td>\n",
       "      <td>5174</td>\n",
       "      <td>1</td>\n",
       "      <td>Y</td>\n",
       "      <td>Yes</td>\n",
       "      <td>20</td>\n",
       "      <td>4</td>\n",
       "      <td>2</td>\n",
       "      <td>80</td>\n",
       "      <td>1</td>\n",
       "      <td>6</td>\n",
       "      <td>0</td>\n",
       "      <td>3</td>\n",
       "      <td>6</td>\n",
       "      <td>2</td>\n",
       "      <td>0</td>\n",
       "      <td>3</td>\n",
       "    </tr>\n",
       "    <tr>\n",
       "      <th>1468</th>\n",
       "      <td>49</td>\n",
       "      <td>No</td>\n",
       "      <td>Travel_Frequently</td>\n",
       "      <td>1023</td>\n",
       "      <td>Sales</td>\n",
       "      <td>2</td>\n",
       "      <td>3</td>\n",
       "      <td>Medical</td>\n",
       "      <td>1</td>\n",
       "      <td>2065</td>\n",
       "      <td>4</td>\n",
       "      <td>Male</td>\n",
       "      <td>63</td>\n",
       "      <td>2</td>\n",
       "      <td>2</td>\n",
       "      <td>Sales Executive</td>\n",
       "      <td>2</td>\n",
       "      <td>Married</td>\n",
       "      <td>5390</td>\n",
       "      <td>13243</td>\n",
       "      <td>2</td>\n",
       "      <td>Y</td>\n",
       "      <td>No</td>\n",
       "      <td>14</td>\n",
       "      <td>3</td>\n",
       "      <td>4</td>\n",
       "      <td>80</td>\n",
       "      <td>0</td>\n",
       "      <td>17</td>\n",
       "      <td>3</td>\n",
       "      <td>2</td>\n",
       "      <td>9</td>\n",
       "      <td>6</td>\n",
       "      <td>0</td>\n",
       "      <td>8</td>\n",
       "    </tr>\n",
       "    <tr>\n",
       "      <th>1469</th>\n",
       "      <td>34</td>\n",
       "      <td>No</td>\n",
       "      <td>Travel_Rarely</td>\n",
       "      <td>628</td>\n",
       "      <td>Research &amp; Development</td>\n",
       "      <td>8</td>\n",
       "      <td>3</td>\n",
       "      <td>Medical</td>\n",
       "      <td>1</td>\n",
       "      <td>2068</td>\n",
       "      <td>2</td>\n",
       "      <td>Male</td>\n",
       "      <td>82</td>\n",
       "      <td>4</td>\n",
       "      <td>2</td>\n",
       "      <td>Laboratory Technician</td>\n",
       "      <td>3</td>\n",
       "      <td>Married</td>\n",
       "      <td>4404</td>\n",
       "      <td>10228</td>\n",
       "      <td>2</td>\n",
       "      <td>Y</td>\n",
       "      <td>No</td>\n",
       "      <td>12</td>\n",
       "      <td>3</td>\n",
       "      <td>1</td>\n",
       "      <td>80</td>\n",
       "      <td>0</td>\n",
       "      <td>6</td>\n",
       "      <td>3</td>\n",
       "      <td>4</td>\n",
       "      <td>4</td>\n",
       "      <td>3</td>\n",
       "      <td>1</td>\n",
       "      <td>2</td>\n",
       "    </tr>\n",
       "  </tbody>\n",
       "</table>\n",
       "<p>1470 rows × 35 columns</p>\n",
       "</div>"
      ],
      "text/plain": [
       "      Age Attrition  ... YearsSinceLastPromotion  YearsWithCurrManager\n",
       "0      41       Yes  ...                       0                     5\n",
       "1      49        No  ...                       1                     7\n",
       "2      37       Yes  ...                       0                     0\n",
       "3      33        No  ...                       3                     0\n",
       "4      27        No  ...                       2                     2\n",
       "...   ...       ...  ...                     ...                   ...\n",
       "1465   36        No  ...                       0                     3\n",
       "1466   39        No  ...                       1                     7\n",
       "1467   27        No  ...                       0                     3\n",
       "1468   49        No  ...                       0                     8\n",
       "1469   34        No  ...                       1                     2\n",
       "\n",
       "[1470 rows x 35 columns]"
      ]
     },
     "execution_count": 5,
     "metadata": {
      "tags": []
     },
     "output_type": "execute_result"
    }
   ],
   "source": [
    "df"
   ]
  },
  {
   "cell_type": "markdown",
   "metadata": {
    "id": "uvekuBRXmaWZ"
   },
   "source": [
    "## Getting information from csv file"
   ]
  },
  {
   "cell_type": "code",
   "execution_count": null,
   "metadata": {
    "colab": {
     "base_uri": "https://localhost:8080/"
    },
    "id": "SlXsrtfrdiHO",
    "outputId": "811ea7af-6f25-45c0-81c0-151058360cb2"
   },
   "outputs": [
    {
     "name": "stdout",
     "output_type": "stream",
     "text": [
      "<class 'pandas.core.frame.DataFrame'>\n",
      "RangeIndex: 1470 entries, 0 to 1469\n",
      "Data columns (total 35 columns):\n",
      " #   Column                    Non-Null Count  Dtype \n",
      "---  ------                    --------------  ----- \n",
      " 0   Age                       1470 non-null   int64 \n",
      " 1   Attrition                 1470 non-null   object\n",
      " 2   BusinessTravel            1470 non-null   object\n",
      " 3   DailyRate                 1470 non-null   int64 \n",
      " 4   Department                1470 non-null   object\n",
      " 5   DistanceFromHome          1470 non-null   int64 \n",
      " 6   Education                 1470 non-null   int64 \n",
      " 7   EducationField            1470 non-null   object\n",
      " 8   EmployeeCount             1470 non-null   int64 \n",
      " 9   EmployeeNumber            1470 non-null   int64 \n",
      " 10  EnvironmentSatisfaction   1470 non-null   int64 \n",
      " 11  Gender                    1470 non-null   object\n",
      " 12  HourlyRate                1470 non-null   int64 \n",
      " 13  JobInvolvement            1470 non-null   int64 \n",
      " 14  JobLevel                  1470 non-null   int64 \n",
      " 15  JobRole                   1470 non-null   object\n",
      " 16  JobSatisfaction           1470 non-null   int64 \n",
      " 17  MaritalStatus             1470 non-null   object\n",
      " 18  MonthlyIncome             1470 non-null   int64 \n",
      " 19  MonthlyRate               1470 non-null   int64 \n",
      " 20  NumCompaniesWorked        1470 non-null   int64 \n",
      " 21  Over18                    1470 non-null   object\n",
      " 22  OverTime                  1470 non-null   object\n",
      " 23  PercentSalaryHike         1470 non-null   int64 \n",
      " 24  PerformanceRating         1470 non-null   int64 \n",
      " 25  RelationshipSatisfaction  1470 non-null   int64 \n",
      " 26  StandardHours             1470 non-null   int64 \n",
      " 27  StockOptionLevel          1470 non-null   int64 \n",
      " 28  TotalWorkingYears         1470 non-null   int64 \n",
      " 29  TrainingTimesLastYear     1470 non-null   int64 \n",
      " 30  WorkLifeBalance           1470 non-null   int64 \n",
      " 31  YearsAtCompany            1470 non-null   int64 \n",
      " 32  YearsInCurrentRole        1470 non-null   int64 \n",
      " 33  YearsSinceLastPromotion   1470 non-null   int64 \n",
      " 34  YearsWithCurrManager      1470 non-null   int64 \n",
      "dtypes: int64(26), object(9)\n",
      "memory usage: 402.1+ KB\n"
     ]
    }
   ],
   "source": [
    "df.info()"
   ]
  },
  {
   "cell_type": "markdown",
   "metadata": {
    "id": "fSiFNqcqmoSp"
   },
   "source": [
    "## Statistical description of dataset"
   ]
  },
  {
   "cell_type": "code",
   "execution_count": null,
   "metadata": {
    "colab": {
     "base_uri": "https://localhost:8080/",
     "height": 302
    },
    "id": "myX0qHqOdogF",
    "outputId": "c22e555e-ec96-4769-b6dc-9ec34110e191"
   },
   "outputs": [
    {
     "data": {
      "text/html": [
       "<div>\n",
       "<style scoped>\n",
       "    .dataframe tbody tr th:only-of-type {\n",
       "        vertical-align: middle;\n",
       "    }\n",
       "\n",
       "    .dataframe tbody tr th {\n",
       "        vertical-align: top;\n",
       "    }\n",
       "\n",
       "    .dataframe thead th {\n",
       "        text-align: right;\n",
       "    }\n",
       "</style>\n",
       "<table border=\"1\" class=\"dataframe\">\n",
       "  <thead>\n",
       "    <tr style=\"text-align: right;\">\n",
       "      <th></th>\n",
       "      <th>Age</th>\n",
       "      <th>DailyRate</th>\n",
       "      <th>DistanceFromHome</th>\n",
       "      <th>Education</th>\n",
       "      <th>EmployeeCount</th>\n",
       "      <th>EmployeeNumber</th>\n",
       "      <th>EnvironmentSatisfaction</th>\n",
       "      <th>HourlyRate</th>\n",
       "      <th>JobInvolvement</th>\n",
       "      <th>JobLevel</th>\n",
       "      <th>JobSatisfaction</th>\n",
       "      <th>MonthlyIncome</th>\n",
       "      <th>MonthlyRate</th>\n",
       "      <th>NumCompaniesWorked</th>\n",
       "      <th>PercentSalaryHike</th>\n",
       "      <th>PerformanceRating</th>\n",
       "      <th>RelationshipSatisfaction</th>\n",
       "      <th>StandardHours</th>\n",
       "      <th>StockOptionLevel</th>\n",
       "      <th>TotalWorkingYears</th>\n",
       "      <th>TrainingTimesLastYear</th>\n",
       "      <th>WorkLifeBalance</th>\n",
       "      <th>YearsAtCompany</th>\n",
       "      <th>YearsInCurrentRole</th>\n",
       "      <th>YearsSinceLastPromotion</th>\n",
       "      <th>YearsWithCurrManager</th>\n",
       "    </tr>\n",
       "  </thead>\n",
       "  <tbody>\n",
       "    <tr>\n",
       "      <th>count</th>\n",
       "      <td>1470.000000</td>\n",
       "      <td>1470.000000</td>\n",
       "      <td>1470.000000</td>\n",
       "      <td>1470.000000</td>\n",
       "      <td>1470.0</td>\n",
       "      <td>1470.000000</td>\n",
       "      <td>1470.000000</td>\n",
       "      <td>1470.000000</td>\n",
       "      <td>1470.000000</td>\n",
       "      <td>1470.000000</td>\n",
       "      <td>1470.000000</td>\n",
       "      <td>1470.000000</td>\n",
       "      <td>1470.000000</td>\n",
       "      <td>1470.000000</td>\n",
       "      <td>1470.000000</td>\n",
       "      <td>1470.000000</td>\n",
       "      <td>1470.000000</td>\n",
       "      <td>1470.0</td>\n",
       "      <td>1470.000000</td>\n",
       "      <td>1470.000000</td>\n",
       "      <td>1470.000000</td>\n",
       "      <td>1470.000000</td>\n",
       "      <td>1470.000000</td>\n",
       "      <td>1470.000000</td>\n",
       "      <td>1470.000000</td>\n",
       "      <td>1470.000000</td>\n",
       "    </tr>\n",
       "    <tr>\n",
       "      <th>mean</th>\n",
       "      <td>36.923810</td>\n",
       "      <td>802.485714</td>\n",
       "      <td>9.192517</td>\n",
       "      <td>2.912925</td>\n",
       "      <td>1.0</td>\n",
       "      <td>1024.865306</td>\n",
       "      <td>2.721769</td>\n",
       "      <td>65.891156</td>\n",
       "      <td>2.729932</td>\n",
       "      <td>2.063946</td>\n",
       "      <td>2.728571</td>\n",
       "      <td>6502.931293</td>\n",
       "      <td>14313.103401</td>\n",
       "      <td>2.693197</td>\n",
       "      <td>15.209524</td>\n",
       "      <td>3.153741</td>\n",
       "      <td>2.712245</td>\n",
       "      <td>80.0</td>\n",
       "      <td>0.793878</td>\n",
       "      <td>11.279592</td>\n",
       "      <td>2.799320</td>\n",
       "      <td>2.761224</td>\n",
       "      <td>7.008163</td>\n",
       "      <td>4.229252</td>\n",
       "      <td>2.187755</td>\n",
       "      <td>4.123129</td>\n",
       "    </tr>\n",
       "    <tr>\n",
       "      <th>std</th>\n",
       "      <td>9.135373</td>\n",
       "      <td>403.509100</td>\n",
       "      <td>8.106864</td>\n",
       "      <td>1.024165</td>\n",
       "      <td>0.0</td>\n",
       "      <td>602.024335</td>\n",
       "      <td>1.093082</td>\n",
       "      <td>20.329428</td>\n",
       "      <td>0.711561</td>\n",
       "      <td>1.106940</td>\n",
       "      <td>1.102846</td>\n",
       "      <td>4707.956783</td>\n",
       "      <td>7117.786044</td>\n",
       "      <td>2.498009</td>\n",
       "      <td>3.659938</td>\n",
       "      <td>0.360824</td>\n",
       "      <td>1.081209</td>\n",
       "      <td>0.0</td>\n",
       "      <td>0.852077</td>\n",
       "      <td>7.780782</td>\n",
       "      <td>1.289271</td>\n",
       "      <td>0.706476</td>\n",
       "      <td>6.126525</td>\n",
       "      <td>3.623137</td>\n",
       "      <td>3.222430</td>\n",
       "      <td>3.568136</td>\n",
       "    </tr>\n",
       "    <tr>\n",
       "      <th>min</th>\n",
       "      <td>18.000000</td>\n",
       "      <td>102.000000</td>\n",
       "      <td>1.000000</td>\n",
       "      <td>1.000000</td>\n",
       "      <td>1.0</td>\n",
       "      <td>1.000000</td>\n",
       "      <td>1.000000</td>\n",
       "      <td>30.000000</td>\n",
       "      <td>1.000000</td>\n",
       "      <td>1.000000</td>\n",
       "      <td>1.000000</td>\n",
       "      <td>1009.000000</td>\n",
       "      <td>2094.000000</td>\n",
       "      <td>0.000000</td>\n",
       "      <td>11.000000</td>\n",
       "      <td>3.000000</td>\n",
       "      <td>1.000000</td>\n",
       "      <td>80.0</td>\n",
       "      <td>0.000000</td>\n",
       "      <td>0.000000</td>\n",
       "      <td>0.000000</td>\n",
       "      <td>1.000000</td>\n",
       "      <td>0.000000</td>\n",
       "      <td>0.000000</td>\n",
       "      <td>0.000000</td>\n",
       "      <td>0.000000</td>\n",
       "    </tr>\n",
       "    <tr>\n",
       "      <th>25%</th>\n",
       "      <td>30.000000</td>\n",
       "      <td>465.000000</td>\n",
       "      <td>2.000000</td>\n",
       "      <td>2.000000</td>\n",
       "      <td>1.0</td>\n",
       "      <td>491.250000</td>\n",
       "      <td>2.000000</td>\n",
       "      <td>48.000000</td>\n",
       "      <td>2.000000</td>\n",
       "      <td>1.000000</td>\n",
       "      <td>2.000000</td>\n",
       "      <td>2911.000000</td>\n",
       "      <td>8047.000000</td>\n",
       "      <td>1.000000</td>\n",
       "      <td>12.000000</td>\n",
       "      <td>3.000000</td>\n",
       "      <td>2.000000</td>\n",
       "      <td>80.0</td>\n",
       "      <td>0.000000</td>\n",
       "      <td>6.000000</td>\n",
       "      <td>2.000000</td>\n",
       "      <td>2.000000</td>\n",
       "      <td>3.000000</td>\n",
       "      <td>2.000000</td>\n",
       "      <td>0.000000</td>\n",
       "      <td>2.000000</td>\n",
       "    </tr>\n",
       "    <tr>\n",
       "      <th>50%</th>\n",
       "      <td>36.000000</td>\n",
       "      <td>802.000000</td>\n",
       "      <td>7.000000</td>\n",
       "      <td>3.000000</td>\n",
       "      <td>1.0</td>\n",
       "      <td>1020.500000</td>\n",
       "      <td>3.000000</td>\n",
       "      <td>66.000000</td>\n",
       "      <td>3.000000</td>\n",
       "      <td>2.000000</td>\n",
       "      <td>3.000000</td>\n",
       "      <td>4919.000000</td>\n",
       "      <td>14235.500000</td>\n",
       "      <td>2.000000</td>\n",
       "      <td>14.000000</td>\n",
       "      <td>3.000000</td>\n",
       "      <td>3.000000</td>\n",
       "      <td>80.0</td>\n",
       "      <td>1.000000</td>\n",
       "      <td>10.000000</td>\n",
       "      <td>3.000000</td>\n",
       "      <td>3.000000</td>\n",
       "      <td>5.000000</td>\n",
       "      <td>3.000000</td>\n",
       "      <td>1.000000</td>\n",
       "      <td>3.000000</td>\n",
       "    </tr>\n",
       "    <tr>\n",
       "      <th>75%</th>\n",
       "      <td>43.000000</td>\n",
       "      <td>1157.000000</td>\n",
       "      <td>14.000000</td>\n",
       "      <td>4.000000</td>\n",
       "      <td>1.0</td>\n",
       "      <td>1555.750000</td>\n",
       "      <td>4.000000</td>\n",
       "      <td>83.750000</td>\n",
       "      <td>3.000000</td>\n",
       "      <td>3.000000</td>\n",
       "      <td>4.000000</td>\n",
       "      <td>8379.000000</td>\n",
       "      <td>20461.500000</td>\n",
       "      <td>4.000000</td>\n",
       "      <td>18.000000</td>\n",
       "      <td>3.000000</td>\n",
       "      <td>4.000000</td>\n",
       "      <td>80.0</td>\n",
       "      <td>1.000000</td>\n",
       "      <td>15.000000</td>\n",
       "      <td>3.000000</td>\n",
       "      <td>3.000000</td>\n",
       "      <td>9.000000</td>\n",
       "      <td>7.000000</td>\n",
       "      <td>3.000000</td>\n",
       "      <td>7.000000</td>\n",
       "    </tr>\n",
       "    <tr>\n",
       "      <th>max</th>\n",
       "      <td>60.000000</td>\n",
       "      <td>1499.000000</td>\n",
       "      <td>29.000000</td>\n",
       "      <td>5.000000</td>\n",
       "      <td>1.0</td>\n",
       "      <td>2068.000000</td>\n",
       "      <td>4.000000</td>\n",
       "      <td>100.000000</td>\n",
       "      <td>4.000000</td>\n",
       "      <td>5.000000</td>\n",
       "      <td>4.000000</td>\n",
       "      <td>19999.000000</td>\n",
       "      <td>26999.000000</td>\n",
       "      <td>9.000000</td>\n",
       "      <td>25.000000</td>\n",
       "      <td>4.000000</td>\n",
       "      <td>4.000000</td>\n",
       "      <td>80.0</td>\n",
       "      <td>3.000000</td>\n",
       "      <td>40.000000</td>\n",
       "      <td>6.000000</td>\n",
       "      <td>4.000000</td>\n",
       "      <td>40.000000</td>\n",
       "      <td>18.000000</td>\n",
       "      <td>15.000000</td>\n",
       "      <td>17.000000</td>\n",
       "    </tr>\n",
       "  </tbody>\n",
       "</table>\n",
       "</div>"
      ],
      "text/plain": [
       "               Age    DailyRate  ...  YearsSinceLastPromotion  YearsWithCurrManager\n",
       "count  1470.000000  1470.000000  ...              1470.000000           1470.000000\n",
       "mean     36.923810   802.485714  ...                 2.187755              4.123129\n",
       "std       9.135373   403.509100  ...                 3.222430              3.568136\n",
       "min      18.000000   102.000000  ...                 0.000000              0.000000\n",
       "25%      30.000000   465.000000  ...                 0.000000              2.000000\n",
       "50%      36.000000   802.000000  ...                 1.000000              3.000000\n",
       "75%      43.000000  1157.000000  ...                 3.000000              7.000000\n",
       "max      60.000000  1499.000000  ...                15.000000             17.000000\n",
       "\n",
       "[8 rows x 26 columns]"
      ]
     },
     "execution_count": 7,
     "metadata": {
      "tags": []
     },
     "output_type": "execute_result"
    }
   ],
   "source": [
    "df.describe()"
   ]
  },
  {
   "cell_type": "markdown",
   "metadata": {
    "id": "WzsfGYn8nE-5"
   },
   "source": [
    "## Checking the null value"
   ]
  },
  {
   "cell_type": "code",
   "execution_count": null,
   "metadata": {
    "colab": {
     "base_uri": "https://localhost:8080/"
    },
    "id": "0dbiE0aBdro_",
    "outputId": "697366ab-1ee9-421a-d522-ae3cd697c754"
   },
   "outputs": [
    {
     "data": {
      "text/plain": [
       "Age                         0\n",
       "Attrition                   0\n",
       "BusinessTravel              0\n",
       "DailyRate                   0\n",
       "Department                  0\n",
       "DistanceFromHome            0\n",
       "Education                   0\n",
       "EducationField              0\n",
       "EmployeeCount               0\n",
       "EmployeeNumber              0\n",
       "EnvironmentSatisfaction     0\n",
       "Gender                      0\n",
       "HourlyRate                  0\n",
       "JobInvolvement              0\n",
       "JobLevel                    0\n",
       "JobRole                     0\n",
       "JobSatisfaction             0\n",
       "MaritalStatus               0\n",
       "MonthlyIncome               0\n",
       "MonthlyRate                 0\n",
       "NumCompaniesWorked          0\n",
       "Over18                      0\n",
       "OverTime                    0\n",
       "PercentSalaryHike           0\n",
       "PerformanceRating           0\n",
       "RelationshipSatisfaction    0\n",
       "StandardHours               0\n",
       "StockOptionLevel            0\n",
       "TotalWorkingYears           0\n",
       "TrainingTimesLastYear       0\n",
       "WorkLifeBalance             0\n",
       "YearsAtCompany              0\n",
       "YearsInCurrentRole          0\n",
       "YearsSinceLastPromotion     0\n",
       "YearsWithCurrManager        0\n",
       "dtype: int64"
      ]
     },
     "execution_count": 8,
     "metadata": {
      "tags": []
     },
     "output_type": "execute_result"
    }
   ],
   "source": [
    "df.isna().sum()"
   ]
  },
  {
   "cell_type": "markdown",
   "metadata": {
    "id": "JPclho1Encto"
   },
   "source": [
    "## Getting the numerical dtype value columns from dataset"
   ]
  },
  {
   "cell_type": "code",
   "execution_count": null,
   "metadata": {
    "colab": {
     "base_uri": "https://localhost:8080/"
    },
    "id": "N-0kjxNEd2GF",
    "outputId": "54dcbcbe-2af0-4feb-fd48-f1f5ac36f89b"
   },
   "outputs": [
    {
     "data": {
      "text/plain": [
       "26"
      ]
     },
     "execution_count": 9,
     "metadata": {
      "tags": []
     },
     "output_type": "execute_result"
    }
   ],
   "source": [
    "num_data = df.select_dtypes(exclude=\"object\")\n",
    "len(num_data.columns)"
   ]
  },
  {
   "cell_type": "markdown",
   "metadata": {
    "id": "CD3TqbR5nrgW"
   },
   "source": [
    "## In numerical dtype value column, there are 8 numerical dtype value column which is ordinal in nature"
   ]
  },
  {
   "cell_type": "markdown",
   "metadata": {
    "id": "cmTFM-BpoouY"
   },
   "source": [
    "## Integer Float type data"
   ]
  },
  {
   "cell_type": "code",
   "execution_count": null,
   "metadata": {
    "colab": {
     "base_uri": "https://localhost:8080/"
    },
    "id": "UI5j0u6gecnz",
    "outputId": "4f4a84bc-6b84-4f9f-e50c-6386059eb207"
   },
   "outputs": [
    {
     "data": {
      "text/plain": [
       "18"
      ]
     },
     "execution_count": 10,
     "metadata": {
      "tags": []
     },
     "output_type": "execute_result"
    }
   ],
   "source": [
    "int_data = df[['Age', 'DailyRate', 'DistanceFromHome', 'EmployeeCount',\n",
    "       'EmployeeNumber', 'HourlyRate',\n",
    "      'JobLevel', 'MonthlyIncome',\n",
    "       'MonthlyRate', 'NumCompaniesWorked', 'PercentSalaryHike',\n",
    "       'StandardHours',\n",
    "        'TotalWorkingYears', 'TrainingTimesLastYear',\n",
    "        'YearsAtCompany', 'YearsInCurrentRole',\n",
    "       'YearsSinceLastPromotion', 'YearsWithCurrManager']]\n",
    "len(int_data.columns)"
   ]
  },
  {
   "cell_type": "code",
   "execution_count": null,
   "metadata": {
    "colab": {
     "base_uri": "https://localhost:8080/"
    },
    "id": "6rkcg3E_8kHV",
    "outputId": "5195161a-988f-44ca-8929-7231258b70c1"
   },
   "outputs": [
    {
     "name": "stdout",
     "output_type": "stream",
     "text": [
      "[0, 1, 2, 3, 4, 5, 6, 7, 8, 9, 10, 11, 12, 13, 14, 15, 16, 17, 18]\n"
     ]
    }
   ],
   "source": [
    "u=[]\n",
    "for i in int_data['YearsInCurrentRole'].unique():\n",
    "  u.append(i)\n",
    "\n",
    "u.sort()\n",
    "print(u)"
   ]
  },
  {
   "cell_type": "markdown",
   "metadata": {
    "id": "qFYT9DETpx5O"
   },
   "source": [
    "## Ordinal type data"
   ]
  },
  {
   "cell_type": "code",
   "execution_count": null,
   "metadata": {
    "colab": {
     "base_uri": "https://localhost:8080/"
    },
    "id": "Z49B_6iKwcSM",
    "outputId": "68e38b4b-2c25-458b-84bf-de97f90ee1fc"
   },
   "outputs": [
    {
     "data": {
      "text/plain": [
       "8"
      ]
     },
     "execution_count": 12,
     "metadata": {
      "tags": []
     },
     "output_type": "execute_result"
    }
   ],
   "source": [
    "ord_data = df[['Education','EnvironmentSatisfaction','JobInvolvement','JobSatisfaction','PerformanceRating', 'RelationshipSatisfaction','StockOptionLevel','WorkLifeBalance']]\n",
    "len(ord_data.columns)"
   ]
  },
  {
   "cell_type": "markdown",
   "metadata": {
    "id": "LB36GSIVqDVq"
   },
   "source": [
    "## Statistical Analysis of Real number Numerical type data"
   ]
  },
  {
   "cell_type": "code",
   "execution_count": null,
   "metadata": {
    "colab": {
     "base_uri": "https://localhost:8080/"
    },
    "id": "Oz13c0o4eVjn",
    "outputId": "1f3e81f9-1d44-4432-be4b-32dd7f98e500"
   },
   "outputs": [
    {
     "data": {
      "image/png": "[encoded data removed]",
      "text/plain": [
       "<Figure size 1440x864 with 18 Axes>"
      ]
     },
     "metadata": {
      "tags": []
     },
     "output_type": "display_data"
    }
   ],
   "source": [
    "sns.set(rc={\"font.size\":15,\"axes.titlesize\":20,\"axes.labelsize\":15,\"xtick.labelsize\":10,\"ytick.labelsize\":10,\n",
    "            \"legend.fontsize\":12})\n",
    "fig = plt.figure(figsize=(20,12))\n",
    "\n",
    "for index,cols in enumerate(int_data):\n",
    "    plt.subplot(3,6,index+1)\n",
    "    fig.suptitle(\"Statistical Analysis of Real number Numerical type data\",fontsize=25)\n",
    "    sns.distplot(num_data.loc[:,cols])\n",
    "plt.tight_layout(pad=2)\n",
    "fig.subplots_adjust(top=0.93)\n",
    "plt.show()\n"
   ]
  },
  {
   "cell_type": "markdown",
   "metadata": {
    "id": "PKB5t_3rqYhz"
   },
   "source": [
    "## As shown in above figure, EmployeeCount & StandardHours are only one unique value, so droping such columns"
   ]
  },
  {
   "cell_type": "code",
   "execution_count": null,
   "metadata": {
    "id": "7NFPHbqJvAJc"
   },
   "outputs": [],
   "source": [
    "int_data = int_data.drop(['EmployeeCount', 'StandardHours'],axis=1)"
   ]
  },
  {
   "cell_type": "markdown",
   "metadata": {
    "id": "c-fBu6eQrJ1b"
   },
   "source": [
    "## Creating a function which gives skewed column name"
   ]
  },
  {
   "cell_type": "code",
   "execution_count": null,
   "metadata": {
    "id": "3fKjKpuLynIt"
   },
   "outputs": [],
   "source": [
    "from scipy.stats import skew,kurtosis\n",
    "def skewed(data):\n",
    "  t=[]\n",
    "  for i in data.columns:\n",
    "    skewness = data[i].skew()\n",
    "    if(skewness>1.96 or skewness<=-1.96):\n",
    "      t.append(i)\n",
    "  return t\n"
   ]
  },
  {
   "cell_type": "code",
   "execution_count": null,
   "metadata": {
    "colab": {
     "base_uri": "https://localhost:8080/"
    },
    "id": "euEtzWpKy8pP",
    "outputId": "00c0ad28-404b-4cbc-d37b-fbbc286edc8a"
   },
   "outputs": [
    {
     "data": {
      "text/plain": [
       "['YearsSinceLastPromotion']"
      ]
     },
     "execution_count": 16,
     "metadata": {
      "tags": []
     },
     "output_type": "execute_result"
    }
   ],
   "source": [
    "skewed(int_data)"
   ]
  },
  {
   "cell_type": "markdown",
   "metadata": {
    "id": "L9FId2GlrgoU"
   },
   "source": [
    "## Normalization of skewed column"
   ]
  },
  {
   "cell_type": "code",
   "execution_count": null,
   "metadata": {
    "id": "TDoWOqBR0POL"
   },
   "outputs": [],
   "source": [
    "int_data[\"YearsSinceLastPromotion\"] = np.sqrt(int_data[\"YearsSinceLastPromotion\"])"
   ]
  },
  {
   "cell_type": "code",
   "execution_count": null,
   "metadata": {
    "colab": {
     "base_uri": "https://localhost:8080/"
    },
    "id": "gMPqQ8rZ06Gu",
    "outputId": "28659dbe-d29c-4737-a7c7-067330f48ddc"
   },
   "outputs": [
    {
     "data": {
      "text/plain": [
       "[]"
      ]
     },
     "execution_count": 18,
     "metadata": {
      "tags": []
     },
     "output_type": "execute_result"
    }
   ],
   "source": [
    "skewed(int_data)"
   ]
  },
  {
   "cell_type": "markdown",
   "metadata": {
    "id": "MoRM12X7r2Oa"
   },
   "source": [
    "## Checking Outlier & treatment on outliers"
   ]
  },
  {
   "cell_type": "code",
   "execution_count": null,
   "metadata": {
    "colab": {
     "base_uri": "https://localhost:8080/"
    },
    "id": "duGByDTp08VM",
    "outputId": "b2741637-b30c-4e23-dcb1-394af5d725e4"
   },
   "outputs": [
    {
     "data": {
      "image/png": "[encoded data removed]",
      "text/plain": [
       "<Figure size 1080x864 with 1 Axes>"
      ]
     },
     "metadata": {
      "tags": []
     },
     "output_type": "display_data"
    }
   ],
   "source": [
    "plt.figure(figsize=(15,12))\n",
    "sns.boxplot(data=int_data, orient=\"h\", palette=\"Set2\")\n",
    "plt.show()"
   ]
  },
  {
   "cell_type": "code",
   "execution_count": null,
   "metadata": {
    "colab": {
     "base_uri": "https://localhost:8080/"
    },
    "id": "emnd-o-n2Cqj",
    "outputId": "f023996a-5b3b-4eab-cfe1-adb8ce2ab2cf"
   },
   "outputs": [
    {
     "name": "stdout",
     "output_type": "stream",
     "text": [
      "2317.6\n",
      "13775.600000000008\n"
     ]
    }
   ],
   "source": [
    "print(int_data['MonthlyIncome'].quantile(0.10))\n",
    "print(int_data['MonthlyIncome'].quantile(0.90))\n"
   ]
  },
  {
   "cell_type": "code",
   "execution_count": null,
   "metadata": {
    "colab": {
     "base_uri": "https://localhost:8080/"
    },
    "id": "d0uYKih221dY",
    "outputId": "06821bf4-6c9f-48a8-ef05-b4cc97b913c8"
   },
   "outputs": [
    {
     "name": "stdout",
     "output_type": "stream",
     "text": [
      "0.9163713456638363\n"
     ]
    }
   ],
   "source": [
    "int_data[\"MonthlyIncome\"] = np.where(int_data[\"MonthlyIncome\"] <2317.6, 2317.6,int_data['MonthlyIncome'])\n",
    "int_data[\"MonthlyIncome\"] = np.where(int_data[\"MonthlyIncome\"] >13775.600000000008, 13775.600000000008,int_data['MonthlyIncome'])\n",
    "print(int_data[\"MonthlyIncome\"].skew())"
   ]
  },
  {
   "cell_type": "code",
   "execution_count": null,
   "metadata": {
    "colab": {
     "base_uri": "https://localhost:8080/"
    },
    "id": "76JGp8tl220E",
    "outputId": "badb15f2-bf11-4434-ee9f-5acafd795f23"
   },
   "outputs": [
    {
     "data": {
      "image/png": "[encoded data removed]",
      "text/plain": [
       "<Figure size 1080x864 with 1 Axes>"
      ]
     },
     "metadata": {
      "tags": []
     },
     "output_type": "display_data"
    }
   ],
   "source": [
    "plt.figure(figsize=(15,12))\n",
    "sns.boxplot(data=int_data, orient=\"h\", palette=\"Set2\")\n",
    "plt.show()"
   ]
  },
  {
   "cell_type": "code",
   "execution_count": null,
   "metadata": {
    "colab": {
     "base_uri": "https://localhost:8080/"
    },
    "id": "6IaEBKbb4A5V",
    "outputId": "e07107b5-943b-4841-bb1f-b33cb2e13854"
   },
   "outputs": [
    {
     "data": {
      "text/plain": [
       "Index(['Age', 'DailyRate', 'DistanceFromHome', 'EmployeeNumber', 'HourlyRate',\n",
       "       'JobLevel', 'MonthlyIncome', 'MonthlyRate', 'NumCompaniesWorked',\n",
       "       'PercentSalaryHike', 'TotalWorkingYears', 'TrainingTimesLastYear',\n",
       "       'YearsAtCompany', 'YearsInCurrentRole', 'YearsSinceLastPromotion',\n",
       "       'YearsWithCurrManager'],\n",
       "      dtype='object')"
      ]
     },
     "execution_count": 23,
     "metadata": {
      "tags": []
     },
     "output_type": "execute_result"
    }
   ],
   "source": [
    "int_data.columns"
   ]
  },
  {
   "cell_type": "code",
   "execution_count": null,
   "metadata": {
    "colab": {
     "base_uri": "https://localhost:8080/"
    },
    "id": "9LDHnCkj3sRa",
    "outputId": "da52f36a-4ecd-409d-940f-dfbbfedc1c68"
   },
   "outputs": [
    {
     "data": {
      "image/png": "[encoded data removed]",
      "text/plain": [
       "<Figure size 1080x576 with 1 Axes>"
      ]
     },
     "metadata": {
      "tags": []
     },
     "output_type": "display_data"
    }
   ],
   "source": [
    "plt.figure(figsize=(15,8))\n",
    "sns.boxplot(data=int_data[['NumCompaniesWorked', 'TotalWorkingYears', 'TrainingTimesLastYear',\n",
    "       'YearsAtCompany', 'YearsInCurrentRole',\n",
    "       'YearsWithCurrManager']], orient=\"h\", palette=\"Set2\")\n",
    "plt.show()"
   ]
  },
  {
   "cell_type": "code",
   "execution_count": null,
   "metadata": {
    "colab": {
     "base_uri": "https://localhost:8080/"
    },
    "id": "NRgTKrUa31s6",
    "outputId": "67a0809b-e3f3-4ffc-b508-ca23d75e892e"
   },
   "outputs": [
    {
     "name": "stdout",
     "output_type": "stream",
     "text": [
      "7.0\n",
      "0.7881096367446891\n"
     ]
    }
   ],
   "source": [
    "print(int_data['NumCompaniesWorked'].quantile(0.90))\n",
    "int_data['NumCompaniesWorked'] = np.where(int_data['NumCompaniesWorked']>7.0,7.0,int_data['NumCompaniesWorked'])\n",
    "print(int_data['NumCompaniesWorked'].skew())"
   ]
  },
  {
   "cell_type": "code",
   "execution_count": null,
   "metadata": {
    "colab": {
     "base_uri": "https://localhost:8080/"
    },
    "id": "M-Mrf4Je5jhT",
    "outputId": "323fca8a-43be-4809-9814-0a7d55a1062e"
   },
   "outputs": [
    {
     "name": "stdout",
     "output_type": "stream",
     "text": [
      "23.0\n",
      "0.550670616777844\n"
     ]
    }
   ],
   "source": [
    "print(int_data['TotalWorkingYears'].quantile(0.90))\n",
    "int_data['TotalWorkingYears'] = np.where(int_data['TotalWorkingYears']>23.0,23.0,int_data['TotalWorkingYears'])\n",
    "print(int_data['TotalWorkingYears'].skew())"
   ]
  },
  {
   "cell_type": "code",
   "execution_count": null,
   "metadata": {
    "colab": {
     "base_uri": "https://localhost:8080/"
    },
    "id": "1ab9MkD968gS",
    "outputId": "7f68f03c-5044-44ae-9902-66b57550d6ba"
   },
   "outputs": [
    {
     "name": "stdout",
     "output_type": "stream",
     "text": [
      "2.0\n",
      "5.0\n",
      "0.971283769509861\n"
     ]
    }
   ],
   "source": [
    "print(int_data['TrainingTimesLastYear'].quantile(0.10))\n",
    "print(int_data['TrainingTimesLastYear'].quantile(0.90))\n",
    "int_data['TrainingTimesLastYear'] = np.where(int_data['TrainingTimesLastYear']<2.0,2.0,int_data['TrainingTimesLastYear'])\n",
    "int_data['TrainingTimesLastYear'] = np.where(int_data['TrainingTimesLastYear']>5.0,5.0,int_data['TrainingTimesLastYear'])\n",
    "print(int_data['TrainingTimesLastYear'].skew())"
   ]
  },
  {
   "cell_type": "code",
   "execution_count": null,
   "metadata": {
    "colab": {
     "base_uri": "https://localhost:8080/"
    },
    "id": "sz0ytQGf8cPi",
    "outputId": "cd9b24a3-4aa6-47c1-946f-76f3529a8d01"
   },
   "outputs": [
    {
     "name": "stdout",
     "output_type": "stream",
     "text": [
      "15.0\n",
      "0.5870666888624433\n"
     ]
    }
   ],
   "source": [
    "print(int_data['YearsAtCompany'].quantile(0.90))\n",
    "int_data['YearsAtCompany'] = np.where(int_data['YearsAtCompany']>15.0,15.0,int_data['YearsAtCompany'])\n",
    "print(int_data['YearsAtCompany'].skew())"
   ]
  },
  {
   "cell_type": "code",
   "execution_count": null,
   "metadata": {
    "colab": {
     "base_uri": "https://localhost:8080/"
    },
    "id": "D9Qs8Ke29lwd",
    "outputId": "f273d75b-e669-4391-b9ce-09ffbdfab0b4"
   },
   "outputs": [
    {
     "name": "stdout",
     "output_type": "stream",
     "text": [
      "9.0\n",
      "0.32895991946815467\n"
     ]
    }
   ],
   "source": [
    "print(int_data['YearsInCurrentRole'].quantile(0.90))\n",
    "int_data['YearsInCurrentRole'] = np.where(int_data['YearsInCurrentRole']>9.0,9.0,int_data['YearsInCurrentRole'])\n",
    "print(int_data['YearsInCurrentRole'].skew())"
   ]
  },
  {
   "cell_type": "code",
   "execution_count": null,
   "metadata": {
    "colab": {
     "base_uri": "https://localhost:8080/"
    },
    "id": "Oo8POTJN-GmY",
    "outputId": "6e0e5759-0a6f-41da-8c59-faae25ab3ca9"
   },
   "outputs": [
    {
     "name": "stdout",
     "output_type": "stream",
     "text": [
      "14.0\n",
      "0.7196100045304419\n"
     ]
    }
   ],
   "source": [
    "print(int_data['YearsWithCurrManager'].quantile(0.99))\n",
    "int_data['YearsWithCurrManager'] = np.where(int_data['YearsWithCurrManager']>14,14,int_data['YearsWithCurrManager'])\n",
    "print(int_data['YearsWithCurrManager'].skew())"
   ]
  },
  {
   "cell_type": "code",
   "execution_count": null,
   "metadata": {
    "colab": {
     "base_uri": "https://localhost:8080/"
    },
    "id": "ESP7sOH--ODF",
    "outputId": "2c3a1359-150b-4e90-f06a-3ab904dcbdb0"
   },
   "outputs": [
    {
     "data": {
      "image/png": "[encoded data removed]",
      "text/plain": [
       "<Figure size 1080x576 with 1 Axes>"
      ]
     },
     "metadata": {
      "tags": []
     },
     "output_type": "display_data"
    }
   ],
   "source": [
    "plt.figure(figsize=(15,8))\n",
    "sns.boxplot(data=int_data, orient=\"h\", palette=\"Set2\")\n",
    "plt.show()"
   ]
  },
  {
   "cell_type": "markdown",
   "metadata": {
    "id": "eOOA2_xztctL"
   },
   "source": [
    "## Now there is no outlier present in dataset"
   ]
  },
  {
   "cell_type": "markdown",
   "metadata": {
    "id": "PoVpk2_Dt5RV"
   },
   "source": [
    "## Getting the object dtype value columns from dataset"
   ]
  },
  {
   "cell_type": "code",
   "execution_count": null,
   "metadata": {
    "id": "aqnDG9wL-peh"
   },
   "outputs": [],
   "source": [
    "obj_data = df.select_dtypes(include=\"object\")"
   ]
  },
  {
   "cell_type": "code",
   "execution_count": null,
   "metadata": {
    "colab": {
     "base_uri": "https://localhost:8080/"
    },
    "id": "jZOmp5h_-92J",
    "outputId": "b72f01a3-2d84-4f1b-ebe9-c900c8381390"
   },
   "outputs": [
    {
     "data": {
      "text/html": [
       "<div>\n",
       "<style scoped>\n",
       "    .dataframe tbody tr th:only-of-type {\n",
       "        vertical-align: middle;\n",
       "    }\n",
       "\n",
       "    .dataframe tbody tr th {\n",
       "        vertical-align: top;\n",
       "    }\n",
       "\n",
       "    .dataframe thead th {\n",
       "        text-align: right;\n",
       "    }\n",
       "</style>\n",
       "<table border=\"1\" class=\"dataframe\">\n",
       "  <thead>\n",
       "    <tr style=\"text-align: right;\">\n",
       "      <th></th>\n",
       "      <th>Attrition</th>\n",
       "      <th>BusinessTravel</th>\n",
       "      <th>Department</th>\n",
       "      <th>EducationField</th>\n",
       "      <th>Gender</th>\n",
       "      <th>JobRole</th>\n",
       "      <th>MaritalStatus</th>\n",
       "      <th>Over18</th>\n",
       "      <th>OverTime</th>\n",
       "    </tr>\n",
       "  </thead>\n",
       "  <tbody>\n",
       "    <tr>\n",
       "      <th>0</th>\n",
       "      <td>Yes</td>\n",
       "      <td>Travel_Rarely</td>\n",
       "      <td>Sales</td>\n",
       "      <td>Life Sciences</td>\n",
       "      <td>Female</td>\n",
       "      <td>Sales Executive</td>\n",
       "      <td>Single</td>\n",
       "      <td>Y</td>\n",
       "      <td>Yes</td>\n",
       "    </tr>\n",
       "    <tr>\n",
       "      <th>1</th>\n",
       "      <td>No</td>\n",
       "      <td>Travel_Frequently</td>\n",
       "      <td>Research &amp; Development</td>\n",
       "      <td>Life Sciences</td>\n",
       "      <td>Male</td>\n",
       "      <td>Research Scientist</td>\n",
       "      <td>Married</td>\n",
       "      <td>Y</td>\n",
       "      <td>No</td>\n",
       "    </tr>\n",
       "    <tr>\n",
       "      <th>2</th>\n",
       "      <td>Yes</td>\n",
       "      <td>Travel_Rarely</td>\n",
       "      <td>Research &amp; Development</td>\n",
       "      <td>Other</td>\n",
       "      <td>Male</td>\n",
       "      <td>Laboratory Technician</td>\n",
       "      <td>Single</td>\n",
       "      <td>Y</td>\n",
       "      <td>Yes</td>\n",
       "    </tr>\n",
       "    <tr>\n",
       "      <th>3</th>\n",
       "      <td>No</td>\n",
       "      <td>Travel_Frequently</td>\n",
       "      <td>Research &amp; Development</td>\n",
       "      <td>Life Sciences</td>\n",
       "      <td>Female</td>\n",
       "      <td>Research Scientist</td>\n",
       "      <td>Married</td>\n",
       "      <td>Y</td>\n",
       "      <td>Yes</td>\n",
       "    </tr>\n",
       "    <tr>\n",
       "      <th>4</th>\n",
       "      <td>No</td>\n",
       "      <td>Travel_Rarely</td>\n",
       "      <td>Research &amp; Development</td>\n",
       "      <td>Medical</td>\n",
       "      <td>Male</td>\n",
       "      <td>Laboratory Technician</td>\n",
       "      <td>Married</td>\n",
       "      <td>Y</td>\n",
       "      <td>No</td>\n",
       "    </tr>\n",
       "    <tr>\n",
       "      <th>...</th>\n",
       "      <td>...</td>\n",
       "      <td>...</td>\n",
       "      <td>...</td>\n",
       "      <td>...</td>\n",
       "      <td>...</td>\n",
       "      <td>...</td>\n",
       "      <td>...</td>\n",
       "      <td>...</td>\n",
       "      <td>...</td>\n",
       "    </tr>\n",
       "    <tr>\n",
       "      <th>1465</th>\n",
       "      <td>No</td>\n",
       "      <td>Travel_Frequently</td>\n",
       "      <td>Research &amp; Development</td>\n",
       "      <td>Medical</td>\n",
       "      <td>Male</td>\n",
       "      <td>Laboratory Technician</td>\n",
       "      <td>Married</td>\n",
       "      <td>Y</td>\n",
       "      <td>No</td>\n",
       "    </tr>\n",
       "    <tr>\n",
       "      <th>1466</th>\n",
       "      <td>No</td>\n",
       "      <td>Travel_Rarely</td>\n",
       "      <td>Research &amp; Development</td>\n",
       "      <td>Medical</td>\n",
       "      <td>Male</td>\n",
       "      <td>Healthcare Representative</td>\n",
       "      <td>Married</td>\n",
       "      <td>Y</td>\n",
       "      <td>No</td>\n",
       "    </tr>\n",
       "    <tr>\n",
       "      <th>1467</th>\n",
       "      <td>No</td>\n",
       "      <td>Travel_Rarely</td>\n",
       "      <td>Research &amp; Development</td>\n",
       "      <td>Life Sciences</td>\n",
       "      <td>Male</td>\n",
       "      <td>Manufacturing Director</td>\n",
       "      <td>Married</td>\n",
       "      <td>Y</td>\n",
       "      <td>Yes</td>\n",
       "    </tr>\n",
       "    <tr>\n",
       "      <th>1468</th>\n",
       "      <td>No</td>\n",
       "      <td>Travel_Frequently</td>\n",
       "      <td>Sales</td>\n",
       "      <td>Medical</td>\n",
       "      <td>Male</td>\n",
       "      <td>Sales Executive</td>\n",
       "      <td>Married</td>\n",
       "      <td>Y</td>\n",
       "      <td>No</td>\n",
       "    </tr>\n",
       "    <tr>\n",
       "      <th>1469</th>\n",
       "      <td>No</td>\n",
       "      <td>Travel_Rarely</td>\n",
       "      <td>Research &amp; Development</td>\n",
       "      <td>Medical</td>\n",
       "      <td>Male</td>\n",
       "      <td>Laboratory Technician</td>\n",
       "      <td>Married</td>\n",
       "      <td>Y</td>\n",
       "      <td>No</td>\n",
       "    </tr>\n",
       "  </tbody>\n",
       "</table>\n",
       "<p>1470 rows × 9 columns</p>\n",
       "</div>"
      ],
      "text/plain": [
       "     Attrition     BusinessTravel  ... Over18 OverTime\n",
       "0          Yes      Travel_Rarely  ...      Y      Yes\n",
       "1           No  Travel_Frequently  ...      Y       No\n",
       "2          Yes      Travel_Rarely  ...      Y      Yes\n",
       "3           No  Travel_Frequently  ...      Y      Yes\n",
       "4           No      Travel_Rarely  ...      Y       No\n",
       "...        ...                ...  ...    ...      ...\n",
       "1465        No  Travel_Frequently  ...      Y       No\n",
       "1466        No      Travel_Rarely  ...      Y       No\n",
       "1467        No      Travel_Rarely  ...      Y      Yes\n",
       "1468        No  Travel_Frequently  ...      Y       No\n",
       "1469        No      Travel_Rarely  ...      Y       No\n",
       "\n",
       "[1470 rows x 9 columns]"
      ]
     },
     "execution_count": 33,
     "metadata": {
      "tags": []
     },
     "output_type": "execute_result"
    }
   ],
   "source": [
    "obj_data"
   ]
  },
  {
   "cell_type": "markdown",
   "metadata": {
    "id": "F7YB78Xnu8hy"
   },
   "source": [
    "## Countplot for object dtype data"
   ]
  },
  {
   "cell_type": "code",
   "execution_count": null,
   "metadata": {
    "colab": {
     "base_uri": "https://localhost:8080/"
    },
    "id": "ljrQ5TBc_AXj",
    "outputId": "17edc17d-43d2-4543-93a7-c335df021cc9"
   },
   "outputs": [
    {
     "data": {
      "image/png": "[encoded data removed]",
      "text/plain": [
       "<Figure size 1800x864 with 9 Axes>"
      ]
     },
     "metadata": {
      "tags": []
     },
     "output_type": "display_data"
    }
   ],
   "source": [
    "fig = plt.figure(figsize=(25,12))\n",
    "fig.suptitle(\"Statistical Analysis of Real number Numerical type data\",fontsize=25)\n",
    "\n",
    "for index,cols in enumerate(obj_data):\n",
    "    plt.subplot(3,3,index+1)\n",
    "    sns.countplot(y=obj_data.loc[:,cols])\n",
    "plt.tight_layout(pad=2)\n",
    "fig.subplots_adjust(top=0.91)"
   ]
  },
  {
   "cell_type": "code",
   "execution_count": null,
   "metadata": {
    "id": "ggcZA-jMvjJl"
   },
   "outputs": [],
   "source": []
  },
  {
   "cell_type": "markdown",
   "metadata": {
    "id": "TpJ9-iNavrwQ"
   },
   "source": [
    "## As shown in above figure, Over18 have only one unique value, so droping such columns"
   ]
  },
  {
   "cell_type": "code",
   "execution_count": null,
   "metadata": {
    "id": "Nv-1jSrLCbov"
   },
   "outputs": [],
   "source": [
    "obj_data = obj_data.drop('Over18',axis=1)"
   ]
  },
  {
   "cell_type": "code",
   "execution_count": null,
   "metadata": {
    "id": "28nOzQ5ev3Eu"
   },
   "outputs": [],
   "source": []
  },
  {
   "cell_type": "markdown",
   "metadata": {
    "id": "H0WLq1T9wC9q"
   },
   "source": [
    "## Creating final dataframe after data pre process"
   ]
  },
  {
   "cell_type": "code",
   "execution_count": null,
   "metadata": {
    "id": "GtbtOA4e_v3C"
   },
   "outputs": [],
   "source": [
    "final_df = pd.concat([int_data,ord_data,obj_data],axis=1)"
   ]
  },
  {
   "cell_type": "code",
   "execution_count": null,
   "metadata": {
    "colab": {
     "base_uri": "https://localhost:8080/"
    },
    "id": "pk9Y3IFDBUW5",
    "outputId": "9de2b12c-f404-4ee7-8a70-54215a4e3843"
   },
   "outputs": [
    {
     "data": {
      "text/html": [
       "<div>\n",
       "<style scoped>\n",
       "    .dataframe tbody tr th:only-of-type {\n",
       "        vertical-align: middle;\n",
       "    }\n",
       "\n",
       "    .dataframe tbody tr th {\n",
       "        vertical-align: top;\n",
       "    }\n",
       "\n",
       "    .dataframe thead th {\n",
       "        text-align: right;\n",
       "    }\n",
       "</style>\n",
       "<table border=\"1\" class=\"dataframe\">\n",
       "  <thead>\n",
       "    <tr style=\"text-align: right;\">\n",
       "      <th></th>\n",
       "      <th>Age</th>\n",
       "      <th>DailyRate</th>\n",
       "      <th>DistanceFromHome</th>\n",
       "      <th>EmployeeNumber</th>\n",
       "      <th>HourlyRate</th>\n",
       "      <th>JobLevel</th>\n",
       "      <th>MonthlyIncome</th>\n",
       "      <th>MonthlyRate</th>\n",
       "      <th>NumCompaniesWorked</th>\n",
       "      <th>PercentSalaryHike</th>\n",
       "      <th>TotalWorkingYears</th>\n",
       "      <th>TrainingTimesLastYear</th>\n",
       "      <th>YearsAtCompany</th>\n",
       "      <th>YearsInCurrentRole</th>\n",
       "      <th>YearsSinceLastPromotion</th>\n",
       "      <th>YearsWithCurrManager</th>\n",
       "      <th>Education</th>\n",
       "      <th>EnvironmentSatisfaction</th>\n",
       "      <th>JobInvolvement</th>\n",
       "      <th>JobSatisfaction</th>\n",
       "      <th>PerformanceRating</th>\n",
       "      <th>RelationshipSatisfaction</th>\n",
       "      <th>StockOptionLevel</th>\n",
       "      <th>WorkLifeBalance</th>\n",
       "      <th>Attrition</th>\n",
       "      <th>BusinessTravel</th>\n",
       "      <th>Department</th>\n",
       "      <th>EducationField</th>\n",
       "      <th>Gender</th>\n",
       "      <th>JobRole</th>\n",
       "      <th>MaritalStatus</th>\n",
       "      <th>OverTime</th>\n",
       "    </tr>\n",
       "  </thead>\n",
       "  <tbody>\n",
       "    <tr>\n",
       "      <th>0</th>\n",
       "      <td>41</td>\n",
       "      <td>1102</td>\n",
       "      <td>1</td>\n",
       "      <td>1</td>\n",
       "      <td>94</td>\n",
       "      <td>2</td>\n",
       "      <td>5993.0</td>\n",
       "      <td>19479</td>\n",
       "      <td>7.0</td>\n",
       "      <td>11</td>\n",
       "      <td>8.0</td>\n",
       "      <td>2.0</td>\n",
       "      <td>6.0</td>\n",
       "      <td>4.0</td>\n",
       "      <td>0.000000</td>\n",
       "      <td>5</td>\n",
       "      <td>2</td>\n",
       "      <td>2</td>\n",
       "      <td>3</td>\n",
       "      <td>4</td>\n",
       "      <td>3</td>\n",
       "      <td>1</td>\n",
       "      <td>0</td>\n",
       "      <td>1</td>\n",
       "      <td>Yes</td>\n",
       "      <td>Travel_Rarely</td>\n",
       "      <td>Sales</td>\n",
       "      <td>Life Sciences</td>\n",
       "      <td>Female</td>\n",
       "      <td>Sales Executive</td>\n",
       "      <td>Single</td>\n",
       "      <td>Yes</td>\n",
       "    </tr>\n",
       "    <tr>\n",
       "      <th>1</th>\n",
       "      <td>49</td>\n",
       "      <td>279</td>\n",
       "      <td>8</td>\n",
       "      <td>2</td>\n",
       "      <td>61</td>\n",
       "      <td>2</td>\n",
       "      <td>5130.0</td>\n",
       "      <td>24907</td>\n",
       "      <td>1.0</td>\n",
       "      <td>23</td>\n",
       "      <td>10.0</td>\n",
       "      <td>3.0</td>\n",
       "      <td>10.0</td>\n",
       "      <td>7.0</td>\n",
       "      <td>1.000000</td>\n",
       "      <td>7</td>\n",
       "      <td>1</td>\n",
       "      <td>3</td>\n",
       "      <td>2</td>\n",
       "      <td>2</td>\n",
       "      <td>4</td>\n",
       "      <td>4</td>\n",
       "      <td>1</td>\n",
       "      <td>3</td>\n",
       "      <td>No</td>\n",
       "      <td>Travel_Frequently</td>\n",
       "      <td>Research &amp; Development</td>\n",
       "      <td>Life Sciences</td>\n",
       "      <td>Male</td>\n",
       "      <td>Research Scientist</td>\n",
       "      <td>Married</td>\n",
       "      <td>No</td>\n",
       "    </tr>\n",
       "    <tr>\n",
       "      <th>2</th>\n",
       "      <td>37</td>\n",
       "      <td>1373</td>\n",
       "      <td>2</td>\n",
       "      <td>4</td>\n",
       "      <td>92</td>\n",
       "      <td>1</td>\n",
       "      <td>2317.6</td>\n",
       "      <td>2396</td>\n",
       "      <td>6.0</td>\n",
       "      <td>15</td>\n",
       "      <td>7.0</td>\n",
       "      <td>3.0</td>\n",
       "      <td>0.0</td>\n",
       "      <td>0.0</td>\n",
       "      <td>0.000000</td>\n",
       "      <td>0</td>\n",
       "      <td>2</td>\n",
       "      <td>4</td>\n",
       "      <td>2</td>\n",
       "      <td>3</td>\n",
       "      <td>3</td>\n",
       "      <td>2</td>\n",
       "      <td>0</td>\n",
       "      <td>3</td>\n",
       "      <td>Yes</td>\n",
       "      <td>Travel_Rarely</td>\n",
       "      <td>Research &amp; Development</td>\n",
       "      <td>Other</td>\n",
       "      <td>Male</td>\n",
       "      <td>Laboratory Technician</td>\n",
       "      <td>Single</td>\n",
       "      <td>Yes</td>\n",
       "    </tr>\n",
       "    <tr>\n",
       "      <th>3</th>\n",
       "      <td>33</td>\n",
       "      <td>1392</td>\n",
       "      <td>3</td>\n",
       "      <td>5</td>\n",
       "      <td>56</td>\n",
       "      <td>1</td>\n",
       "      <td>2909.0</td>\n",
       "      <td>23159</td>\n",
       "      <td>1.0</td>\n",
       "      <td>11</td>\n",
       "      <td>8.0</td>\n",
       "      <td>3.0</td>\n",
       "      <td>8.0</td>\n",
       "      <td>7.0</td>\n",
       "      <td>1.732051</td>\n",
       "      <td>0</td>\n",
       "      <td>4</td>\n",
       "      <td>4</td>\n",
       "      <td>3</td>\n",
       "      <td>3</td>\n",
       "      <td>3</td>\n",
       "      <td>3</td>\n",
       "      <td>0</td>\n",
       "      <td>3</td>\n",
       "      <td>No</td>\n",
       "      <td>Travel_Frequently</td>\n",
       "      <td>Research &amp; Development</td>\n",
       "      <td>Life Sciences</td>\n",
       "      <td>Female</td>\n",
       "      <td>Research Scientist</td>\n",
       "      <td>Married</td>\n",
       "      <td>Yes</td>\n",
       "    </tr>\n",
       "    <tr>\n",
       "      <th>4</th>\n",
       "      <td>27</td>\n",
       "      <td>591</td>\n",
       "      <td>2</td>\n",
       "      <td>7</td>\n",
       "      <td>40</td>\n",
       "      <td>1</td>\n",
       "      <td>3468.0</td>\n",
       "      <td>16632</td>\n",
       "      <td>7.0</td>\n",
       "      <td>12</td>\n",
       "      <td>6.0</td>\n",
       "      <td>3.0</td>\n",
       "      <td>2.0</td>\n",
       "      <td>2.0</td>\n",
       "      <td>1.414214</td>\n",
       "      <td>2</td>\n",
       "      <td>1</td>\n",
       "      <td>1</td>\n",
       "      <td>3</td>\n",
       "      <td>2</td>\n",
       "      <td>3</td>\n",
       "      <td>4</td>\n",
       "      <td>1</td>\n",
       "      <td>3</td>\n",
       "      <td>No</td>\n",
       "      <td>Travel_Rarely</td>\n",
       "      <td>Research &amp; Development</td>\n",
       "      <td>Medical</td>\n",
       "      <td>Male</td>\n",
       "      <td>Laboratory Technician</td>\n",
       "      <td>Married</td>\n",
       "      <td>No</td>\n",
       "    </tr>\n",
       "    <tr>\n",
       "      <th>...</th>\n",
       "      <td>...</td>\n",
       "      <td>...</td>\n",
       "      <td>...</td>\n",
       "      <td>...</td>\n",
       "      <td>...</td>\n",
       "      <td>...</td>\n",
       "      <td>...</td>\n",
       "      <td>...</td>\n",
       "      <td>...</td>\n",
       "      <td>...</td>\n",
       "      <td>...</td>\n",
       "      <td>...</td>\n",
       "      <td>...</td>\n",
       "      <td>...</td>\n",
       "      <td>...</td>\n",
       "      <td>...</td>\n",
       "      <td>...</td>\n",
       "      <td>...</td>\n",
       "      <td>...</td>\n",
       "      <td>...</td>\n",
       "      <td>...</td>\n",
       "      <td>...</td>\n",
       "      <td>...</td>\n",
       "      <td>...</td>\n",
       "      <td>...</td>\n",
       "      <td>...</td>\n",
       "      <td>...</td>\n",
       "      <td>...</td>\n",
       "      <td>...</td>\n",
       "      <td>...</td>\n",
       "      <td>...</td>\n",
       "      <td>...</td>\n",
       "    </tr>\n",
       "    <tr>\n",
       "      <th>1465</th>\n",
       "      <td>36</td>\n",
       "      <td>884</td>\n",
       "      <td>23</td>\n",
       "      <td>2061</td>\n",
       "      <td>41</td>\n",
       "      <td>2</td>\n",
       "      <td>2571.0</td>\n",
       "      <td>12290</td>\n",
       "      <td>4.0</td>\n",
       "      <td>17</td>\n",
       "      <td>17.0</td>\n",
       "      <td>3.0</td>\n",
       "      <td>5.0</td>\n",
       "      <td>2.0</td>\n",
       "      <td>0.000000</td>\n",
       "      <td>3</td>\n",
       "      <td>2</td>\n",
       "      <td>3</td>\n",
       "      <td>4</td>\n",
       "      <td>4</td>\n",
       "      <td>3</td>\n",
       "      <td>3</td>\n",
       "      <td>1</td>\n",
       "      <td>3</td>\n",
       "      <td>No</td>\n",
       "      <td>Travel_Frequently</td>\n",
       "      <td>Research &amp; Development</td>\n",
       "      <td>Medical</td>\n",
       "      <td>Male</td>\n",
       "      <td>Laboratory Technician</td>\n",
       "      <td>Married</td>\n",
       "      <td>No</td>\n",
       "    </tr>\n",
       "    <tr>\n",
       "      <th>1466</th>\n",
       "      <td>39</td>\n",
       "      <td>613</td>\n",
       "      <td>6</td>\n",
       "      <td>2062</td>\n",
       "      <td>42</td>\n",
       "      <td>3</td>\n",
       "      <td>9991.0</td>\n",
       "      <td>21457</td>\n",
       "      <td>4.0</td>\n",
       "      <td>15</td>\n",
       "      <td>9.0</td>\n",
       "      <td>5.0</td>\n",
       "      <td>7.0</td>\n",
       "      <td>7.0</td>\n",
       "      <td>1.000000</td>\n",
       "      <td>7</td>\n",
       "      <td>1</td>\n",
       "      <td>4</td>\n",
       "      <td>2</td>\n",
       "      <td>1</td>\n",
       "      <td>3</td>\n",
       "      <td>1</td>\n",
       "      <td>1</td>\n",
       "      <td>3</td>\n",
       "      <td>No</td>\n",
       "      <td>Travel_Rarely</td>\n",
       "      <td>Research &amp; Development</td>\n",
       "      <td>Medical</td>\n",
       "      <td>Male</td>\n",
       "      <td>Healthcare Representative</td>\n",
       "      <td>Married</td>\n",
       "      <td>No</td>\n",
       "    </tr>\n",
       "    <tr>\n",
       "      <th>1467</th>\n",
       "      <td>27</td>\n",
       "      <td>155</td>\n",
       "      <td>4</td>\n",
       "      <td>2064</td>\n",
       "      <td>87</td>\n",
       "      <td>2</td>\n",
       "      <td>6142.0</td>\n",
       "      <td>5174</td>\n",
       "      <td>1.0</td>\n",
       "      <td>20</td>\n",
       "      <td>6.0</td>\n",
       "      <td>2.0</td>\n",
       "      <td>6.0</td>\n",
       "      <td>2.0</td>\n",
       "      <td>0.000000</td>\n",
       "      <td>3</td>\n",
       "      <td>3</td>\n",
       "      <td>2</td>\n",
       "      <td>4</td>\n",
       "      <td>2</td>\n",
       "      <td>4</td>\n",
       "      <td>2</td>\n",
       "      <td>1</td>\n",
       "      <td>3</td>\n",
       "      <td>No</td>\n",
       "      <td>Travel_Rarely</td>\n",
       "      <td>Research &amp; Development</td>\n",
       "      <td>Life Sciences</td>\n",
       "      <td>Male</td>\n",
       "      <td>Manufacturing Director</td>\n",
       "      <td>Married</td>\n",
       "      <td>Yes</td>\n",
       "    </tr>\n",
       "    <tr>\n",
       "      <th>1468</th>\n",
       "      <td>49</td>\n",
       "      <td>1023</td>\n",
       "      <td>2</td>\n",
       "      <td>2065</td>\n",
       "      <td>63</td>\n",
       "      <td>2</td>\n",
       "      <td>5390.0</td>\n",
       "      <td>13243</td>\n",
       "      <td>2.0</td>\n",
       "      <td>14</td>\n",
       "      <td>17.0</td>\n",
       "      <td>3.0</td>\n",
       "      <td>9.0</td>\n",
       "      <td>6.0</td>\n",
       "      <td>0.000000</td>\n",
       "      <td>8</td>\n",
       "      <td>3</td>\n",
       "      <td>4</td>\n",
       "      <td>2</td>\n",
       "      <td>2</td>\n",
       "      <td>3</td>\n",
       "      <td>4</td>\n",
       "      <td>0</td>\n",
       "      <td>2</td>\n",
       "      <td>No</td>\n",
       "      <td>Travel_Frequently</td>\n",
       "      <td>Sales</td>\n",
       "      <td>Medical</td>\n",
       "      <td>Male</td>\n",
       "      <td>Sales Executive</td>\n",
       "      <td>Married</td>\n",
       "      <td>No</td>\n",
       "    </tr>\n",
       "    <tr>\n",
       "      <th>1469</th>\n",
       "      <td>34</td>\n",
       "      <td>628</td>\n",
       "      <td>8</td>\n",
       "      <td>2068</td>\n",
       "      <td>82</td>\n",
       "      <td>2</td>\n",
       "      <td>4404.0</td>\n",
       "      <td>10228</td>\n",
       "      <td>2.0</td>\n",
       "      <td>12</td>\n",
       "      <td>6.0</td>\n",
       "      <td>3.0</td>\n",
       "      <td>4.0</td>\n",
       "      <td>3.0</td>\n",
       "      <td>1.000000</td>\n",
       "      <td>2</td>\n",
       "      <td>3</td>\n",
       "      <td>2</td>\n",
       "      <td>4</td>\n",
       "      <td>3</td>\n",
       "      <td>3</td>\n",
       "      <td>1</td>\n",
       "      <td>0</td>\n",
       "      <td>4</td>\n",
       "      <td>No</td>\n",
       "      <td>Travel_Rarely</td>\n",
       "      <td>Research &amp; Development</td>\n",
       "      <td>Medical</td>\n",
       "      <td>Male</td>\n",
       "      <td>Laboratory Technician</td>\n",
       "      <td>Married</td>\n",
       "      <td>No</td>\n",
       "    </tr>\n",
       "  </tbody>\n",
       "</table>\n",
       "<p>1470 rows × 32 columns</p>\n",
       "</div>"
      ],
      "text/plain": [
       "      Age  DailyRate  ...  MaritalStatus  OverTime\n",
       "0      41       1102  ...         Single       Yes\n",
       "1      49        279  ...        Married        No\n",
       "2      37       1373  ...         Single       Yes\n",
       "3      33       1392  ...        Married       Yes\n",
       "4      27        591  ...        Married        No\n",
       "...   ...        ...  ...            ...       ...\n",
       "1465   36        884  ...        Married        No\n",
       "1466   39        613  ...        Married        No\n",
       "1467   27        155  ...        Married       Yes\n",
       "1468   49       1023  ...        Married        No\n",
       "1469   34        628  ...        Married        No\n",
       "\n",
       "[1470 rows x 32 columns]"
      ]
     },
     "execution_count": 37,
     "metadata": {
      "tags": []
     },
     "output_type": "execute_result"
    }
   ],
   "source": [
    "final_df"
   ]
  },
  {
   "cell_type": "code",
   "execution_count": null,
   "metadata": {
    "id": "UvQ8_bLOwOiO"
   },
   "outputs": [],
   "source": []
  },
  {
   "cell_type": "markdown",
   "metadata": {
    "id": "jF_XiTblwPZQ"
   },
   "source": [
    "## Rearranging the columns"
   ]
  },
  {
   "cell_type": "code",
   "execution_count": null,
   "metadata": {
    "id": "v98gsO_hBlFr"
   },
   "outputs": [],
   "source": [
    "final_df = final_df[['Age', 'DailyRate', 'DistanceFromHome', 'EmployeeNumber', 'HourlyRate',\n",
    "       'JobLevel', 'MonthlyIncome', 'MonthlyRate', 'NumCompaniesWorked',\n",
    "       'PercentSalaryHike', 'TotalWorkingYears', 'TrainingTimesLastYear',\n",
    "       'YearsAtCompany', 'YearsInCurrentRole', 'YearsSinceLastPromotion',\n",
    "       'YearsWithCurrManager', 'Education', 'EnvironmentSatisfaction',\n",
    "       'JobInvolvement', 'JobSatisfaction', 'PerformanceRating',\n",
    "       'RelationshipSatisfaction', 'StockOptionLevel', 'WorkLifeBalance',\n",
    "       'BusinessTravel', 'Department', 'EducationField', 'Gender',\n",
    "       'JobRole', 'MaritalStatus','OverTime','Attrition']]"
   ]
  },
  {
   "cell_type": "code",
   "execution_count": null,
   "metadata": {
    "colab": {
     "base_uri": "https://localhost:8080/"
    },
    "id": "zA19OuyjCHU_",
    "outputId": "44d2556e-812d-4f9f-d2e7-0f838bff01ce"
   },
   "outputs": [
    {
     "data": {
      "text/html": [
       "<div>\n",
       "<style scoped>\n",
       "    .dataframe tbody tr th:only-of-type {\n",
       "        vertical-align: middle;\n",
       "    }\n",
       "\n",
       "    .dataframe tbody tr th {\n",
       "        vertical-align: top;\n",
       "    }\n",
       "\n",
       "    .dataframe thead th {\n",
       "        text-align: right;\n",
       "    }\n",
       "</style>\n",
       "<table border=\"1\" class=\"dataframe\">\n",
       "  <thead>\n",
       "    <tr style=\"text-align: right;\">\n",
       "      <th></th>\n",
       "      <th>Age</th>\n",
       "      <th>DailyRate</th>\n",
       "      <th>DistanceFromHome</th>\n",
       "      <th>EmployeeNumber</th>\n",
       "      <th>HourlyRate</th>\n",
       "      <th>JobLevel</th>\n",
       "      <th>MonthlyIncome</th>\n",
       "      <th>MonthlyRate</th>\n",
       "      <th>NumCompaniesWorked</th>\n",
       "      <th>PercentSalaryHike</th>\n",
       "      <th>TotalWorkingYears</th>\n",
       "      <th>TrainingTimesLastYear</th>\n",
       "      <th>YearsAtCompany</th>\n",
       "      <th>YearsInCurrentRole</th>\n",
       "      <th>YearsSinceLastPromotion</th>\n",
       "      <th>YearsWithCurrManager</th>\n",
       "      <th>Education</th>\n",
       "      <th>EnvironmentSatisfaction</th>\n",
       "      <th>JobInvolvement</th>\n",
       "      <th>JobSatisfaction</th>\n",
       "      <th>PerformanceRating</th>\n",
       "      <th>RelationshipSatisfaction</th>\n",
       "      <th>StockOptionLevel</th>\n",
       "      <th>WorkLifeBalance</th>\n",
       "      <th>BusinessTravel</th>\n",
       "      <th>Department</th>\n",
       "      <th>EducationField</th>\n",
       "      <th>Gender</th>\n",
       "      <th>JobRole</th>\n",
       "      <th>MaritalStatus</th>\n",
       "      <th>OverTime</th>\n",
       "      <th>Attrition</th>\n",
       "    </tr>\n",
       "  </thead>\n",
       "  <tbody>\n",
       "    <tr>\n",
       "      <th>0</th>\n",
       "      <td>41</td>\n",
       "      <td>1102</td>\n",
       "      <td>1</td>\n",
       "      <td>1</td>\n",
       "      <td>94</td>\n",
       "      <td>2</td>\n",
       "      <td>5993.0</td>\n",
       "      <td>19479</td>\n",
       "      <td>7.0</td>\n",
       "      <td>11</td>\n",
       "      <td>8.0</td>\n",
       "      <td>2.0</td>\n",
       "      <td>6.0</td>\n",
       "      <td>4.0</td>\n",
       "      <td>0.000000</td>\n",
       "      <td>5</td>\n",
       "      <td>2</td>\n",
       "      <td>2</td>\n",
       "      <td>3</td>\n",
       "      <td>4</td>\n",
       "      <td>3</td>\n",
       "      <td>1</td>\n",
       "      <td>0</td>\n",
       "      <td>1</td>\n",
       "      <td>Travel_Rarely</td>\n",
       "      <td>Sales</td>\n",
       "      <td>Life Sciences</td>\n",
       "      <td>Female</td>\n",
       "      <td>Sales Executive</td>\n",
       "      <td>Single</td>\n",
       "      <td>Yes</td>\n",
       "      <td>Yes</td>\n",
       "    </tr>\n",
       "    <tr>\n",
       "      <th>1</th>\n",
       "      <td>49</td>\n",
       "      <td>279</td>\n",
       "      <td>8</td>\n",
       "      <td>2</td>\n",
       "      <td>61</td>\n",
       "      <td>2</td>\n",
       "      <td>5130.0</td>\n",
       "      <td>24907</td>\n",
       "      <td>1.0</td>\n",
       "      <td>23</td>\n",
       "      <td>10.0</td>\n",
       "      <td>3.0</td>\n",
       "      <td>10.0</td>\n",
       "      <td>7.0</td>\n",
       "      <td>1.000000</td>\n",
       "      <td>7</td>\n",
       "      <td>1</td>\n",
       "      <td>3</td>\n",
       "      <td>2</td>\n",
       "      <td>2</td>\n",
       "      <td>4</td>\n",
       "      <td>4</td>\n",
       "      <td>1</td>\n",
       "      <td>3</td>\n",
       "      <td>Travel_Frequently</td>\n",
       "      <td>Research &amp; Development</td>\n",
       "      <td>Life Sciences</td>\n",
       "      <td>Male</td>\n",
       "      <td>Research Scientist</td>\n",
       "      <td>Married</td>\n",
       "      <td>No</td>\n",
       "      <td>No</td>\n",
       "    </tr>\n",
       "    <tr>\n",
       "      <th>2</th>\n",
       "      <td>37</td>\n",
       "      <td>1373</td>\n",
       "      <td>2</td>\n",
       "      <td>4</td>\n",
       "      <td>92</td>\n",
       "      <td>1</td>\n",
       "      <td>2317.6</td>\n",
       "      <td>2396</td>\n",
       "      <td>6.0</td>\n",
       "      <td>15</td>\n",
       "      <td>7.0</td>\n",
       "      <td>3.0</td>\n",
       "      <td>0.0</td>\n",
       "      <td>0.0</td>\n",
       "      <td>0.000000</td>\n",
       "      <td>0</td>\n",
       "      <td>2</td>\n",
       "      <td>4</td>\n",
       "      <td>2</td>\n",
       "      <td>3</td>\n",
       "      <td>3</td>\n",
       "      <td>2</td>\n",
       "      <td>0</td>\n",
       "      <td>3</td>\n",
       "      <td>Travel_Rarely</td>\n",
       "      <td>Research &amp; Development</td>\n",
       "      <td>Other</td>\n",
       "      <td>Male</td>\n",
       "      <td>Laboratory Technician</td>\n",
       "      <td>Single</td>\n",
       "      <td>Yes</td>\n",
       "      <td>Yes</td>\n",
       "    </tr>\n",
       "    <tr>\n",
       "      <th>3</th>\n",
       "      <td>33</td>\n",
       "      <td>1392</td>\n",
       "      <td>3</td>\n",
       "      <td>5</td>\n",
       "      <td>56</td>\n",
       "      <td>1</td>\n",
       "      <td>2909.0</td>\n",
       "      <td>23159</td>\n",
       "      <td>1.0</td>\n",
       "      <td>11</td>\n",
       "      <td>8.0</td>\n",
       "      <td>3.0</td>\n",
       "      <td>8.0</td>\n",
       "      <td>7.0</td>\n",
       "      <td>1.732051</td>\n",
       "      <td>0</td>\n",
       "      <td>4</td>\n",
       "      <td>4</td>\n",
       "      <td>3</td>\n",
       "      <td>3</td>\n",
       "      <td>3</td>\n",
       "      <td>3</td>\n",
       "      <td>0</td>\n",
       "      <td>3</td>\n",
       "      <td>Travel_Frequently</td>\n",
       "      <td>Research &amp; Development</td>\n",
       "      <td>Life Sciences</td>\n",
       "      <td>Female</td>\n",
       "      <td>Research Scientist</td>\n",
       "      <td>Married</td>\n",
       "      <td>Yes</td>\n",
       "      <td>No</td>\n",
       "    </tr>\n",
       "    <tr>\n",
       "      <th>4</th>\n",
       "      <td>27</td>\n",
       "      <td>591</td>\n",
       "      <td>2</td>\n",
       "      <td>7</td>\n",
       "      <td>40</td>\n",
       "      <td>1</td>\n",
       "      <td>3468.0</td>\n",
       "      <td>16632</td>\n",
       "      <td>7.0</td>\n",
       "      <td>12</td>\n",
       "      <td>6.0</td>\n",
       "      <td>3.0</td>\n",
       "      <td>2.0</td>\n",
       "      <td>2.0</td>\n",
       "      <td>1.414214</td>\n",
       "      <td>2</td>\n",
       "      <td>1</td>\n",
       "      <td>1</td>\n",
       "      <td>3</td>\n",
       "      <td>2</td>\n",
       "      <td>3</td>\n",
       "      <td>4</td>\n",
       "      <td>1</td>\n",
       "      <td>3</td>\n",
       "      <td>Travel_Rarely</td>\n",
       "      <td>Research &amp; Development</td>\n",
       "      <td>Medical</td>\n",
       "      <td>Male</td>\n",
       "      <td>Laboratory Technician</td>\n",
       "      <td>Married</td>\n",
       "      <td>No</td>\n",
       "      <td>No</td>\n",
       "    </tr>\n",
       "    <tr>\n",
       "      <th>...</th>\n",
       "      <td>...</td>\n",
       "      <td>...</td>\n",
       "      <td>...</td>\n",
       "      <td>...</td>\n",
       "      <td>...</td>\n",
       "      <td>...</td>\n",
       "      <td>...</td>\n",
       "      <td>...</td>\n",
       "      <td>...</td>\n",
       "      <td>...</td>\n",
       "      <td>...</td>\n",
       "      <td>...</td>\n",
       "      <td>...</td>\n",
       "      <td>...</td>\n",
       "      <td>...</td>\n",
       "      <td>...</td>\n",
       "      <td>...</td>\n",
       "      <td>...</td>\n",
       "      <td>...</td>\n",
       "      <td>...</td>\n",
       "      <td>...</td>\n",
       "      <td>...</td>\n",
       "      <td>...</td>\n",
       "      <td>...</td>\n",
       "      <td>...</td>\n",
       "      <td>...</td>\n",
       "      <td>...</td>\n",
       "      <td>...</td>\n",
       "      <td>...</td>\n",
       "      <td>...</td>\n",
       "      <td>...</td>\n",
       "      <td>...</td>\n",
       "    </tr>\n",
       "    <tr>\n",
       "      <th>1465</th>\n",
       "      <td>36</td>\n",
       "      <td>884</td>\n",
       "      <td>23</td>\n",
       "      <td>2061</td>\n",
       "      <td>41</td>\n",
       "      <td>2</td>\n",
       "      <td>2571.0</td>\n",
       "      <td>12290</td>\n",
       "      <td>4.0</td>\n",
       "      <td>17</td>\n",
       "      <td>17.0</td>\n",
       "      <td>3.0</td>\n",
       "      <td>5.0</td>\n",
       "      <td>2.0</td>\n",
       "      <td>0.000000</td>\n",
       "      <td>3</td>\n",
       "      <td>2</td>\n",
       "      <td>3</td>\n",
       "      <td>4</td>\n",
       "      <td>4</td>\n",
       "      <td>3</td>\n",
       "      <td>3</td>\n",
       "      <td>1</td>\n",
       "      <td>3</td>\n",
       "      <td>Travel_Frequently</td>\n",
       "      <td>Research &amp; Development</td>\n",
       "      <td>Medical</td>\n",
       "      <td>Male</td>\n",
       "      <td>Laboratory Technician</td>\n",
       "      <td>Married</td>\n",
       "      <td>No</td>\n",
       "      <td>No</td>\n",
       "    </tr>\n",
       "    <tr>\n",
       "      <th>1466</th>\n",
       "      <td>39</td>\n",
       "      <td>613</td>\n",
       "      <td>6</td>\n",
       "      <td>2062</td>\n",
       "      <td>42</td>\n",
       "      <td>3</td>\n",
       "      <td>9991.0</td>\n",
       "      <td>21457</td>\n",
       "      <td>4.0</td>\n",
       "      <td>15</td>\n",
       "      <td>9.0</td>\n",
       "      <td>5.0</td>\n",
       "      <td>7.0</td>\n",
       "      <td>7.0</td>\n",
       "      <td>1.000000</td>\n",
       "      <td>7</td>\n",
       "      <td>1</td>\n",
       "      <td>4</td>\n",
       "      <td>2</td>\n",
       "      <td>1</td>\n",
       "      <td>3</td>\n",
       "      <td>1</td>\n",
       "      <td>1</td>\n",
       "      <td>3</td>\n",
       "      <td>Travel_Rarely</td>\n",
       "      <td>Research &amp; Development</td>\n",
       "      <td>Medical</td>\n",
       "      <td>Male</td>\n",
       "      <td>Healthcare Representative</td>\n",
       "      <td>Married</td>\n",
       "      <td>No</td>\n",
       "      <td>No</td>\n",
       "    </tr>\n",
       "    <tr>\n",
       "      <th>1467</th>\n",
       "      <td>27</td>\n",
       "      <td>155</td>\n",
       "      <td>4</td>\n",
       "      <td>2064</td>\n",
       "      <td>87</td>\n",
       "      <td>2</td>\n",
       "      <td>6142.0</td>\n",
       "      <td>5174</td>\n",
       "      <td>1.0</td>\n",
       "      <td>20</td>\n",
       "      <td>6.0</td>\n",
       "      <td>2.0</td>\n",
       "      <td>6.0</td>\n",
       "      <td>2.0</td>\n",
       "      <td>0.000000</td>\n",
       "      <td>3</td>\n",
       "      <td>3</td>\n",
       "      <td>2</td>\n",
       "      <td>4</td>\n",
       "      <td>2</td>\n",
       "      <td>4</td>\n",
       "      <td>2</td>\n",
       "      <td>1</td>\n",
       "      <td>3</td>\n",
       "      <td>Travel_Rarely</td>\n",
       "      <td>Research &amp; Development</td>\n",
       "      <td>Life Sciences</td>\n",
       "      <td>Male</td>\n",
       "      <td>Manufacturing Director</td>\n",
       "      <td>Married</td>\n",
       "      <td>Yes</td>\n",
       "      <td>No</td>\n",
       "    </tr>\n",
       "    <tr>\n",
       "      <th>1468</th>\n",
       "      <td>49</td>\n",
       "      <td>1023</td>\n",
       "      <td>2</td>\n",
       "      <td>2065</td>\n",
       "      <td>63</td>\n",
       "      <td>2</td>\n",
       "      <td>5390.0</td>\n",
       "      <td>13243</td>\n",
       "      <td>2.0</td>\n",
       "      <td>14</td>\n",
       "      <td>17.0</td>\n",
       "      <td>3.0</td>\n",
       "      <td>9.0</td>\n",
       "      <td>6.0</td>\n",
       "      <td>0.000000</td>\n",
       "      <td>8</td>\n",
       "      <td>3</td>\n",
       "      <td>4</td>\n",
       "      <td>2</td>\n",
       "      <td>2</td>\n",
       "      <td>3</td>\n",
       "      <td>4</td>\n",
       "      <td>0</td>\n",
       "      <td>2</td>\n",
       "      <td>Travel_Frequently</td>\n",
       "      <td>Sales</td>\n",
       "      <td>Medical</td>\n",
       "      <td>Male</td>\n",
       "      <td>Sales Executive</td>\n",
       "      <td>Married</td>\n",
       "      <td>No</td>\n",
       "      <td>No</td>\n",
       "    </tr>\n",
       "    <tr>\n",
       "      <th>1469</th>\n",
       "      <td>34</td>\n",
       "      <td>628</td>\n",
       "      <td>8</td>\n",
       "      <td>2068</td>\n",
       "      <td>82</td>\n",
       "      <td>2</td>\n",
       "      <td>4404.0</td>\n",
       "      <td>10228</td>\n",
       "      <td>2.0</td>\n",
       "      <td>12</td>\n",
       "      <td>6.0</td>\n",
       "      <td>3.0</td>\n",
       "      <td>4.0</td>\n",
       "      <td>3.0</td>\n",
       "      <td>1.000000</td>\n",
       "      <td>2</td>\n",
       "      <td>3</td>\n",
       "      <td>2</td>\n",
       "      <td>4</td>\n",
       "      <td>3</td>\n",
       "      <td>3</td>\n",
       "      <td>1</td>\n",
       "      <td>0</td>\n",
       "      <td>4</td>\n",
       "      <td>Travel_Rarely</td>\n",
       "      <td>Research &amp; Development</td>\n",
       "      <td>Medical</td>\n",
       "      <td>Male</td>\n",
       "      <td>Laboratory Technician</td>\n",
       "      <td>Married</td>\n",
       "      <td>No</td>\n",
       "      <td>No</td>\n",
       "    </tr>\n",
       "  </tbody>\n",
       "</table>\n",
       "<p>1470 rows × 32 columns</p>\n",
       "</div>"
      ],
      "text/plain": [
       "      Age  DailyRate  DistanceFromHome  ...  MaritalStatus  OverTime  Attrition\n",
       "0      41       1102                 1  ...         Single       Yes        Yes\n",
       "1      49        279                 8  ...        Married        No         No\n",
       "2      37       1373                 2  ...         Single       Yes        Yes\n",
       "3      33       1392                 3  ...        Married       Yes         No\n",
       "4      27        591                 2  ...        Married        No         No\n",
       "...   ...        ...               ...  ...            ...       ...        ...\n",
       "1465   36        884                23  ...        Married        No         No\n",
       "1466   39        613                 6  ...        Married        No         No\n",
       "1467   27        155                 4  ...        Married       Yes         No\n",
       "1468   49       1023                 2  ...        Married        No         No\n",
       "1469   34        628                 8  ...        Married        No         No\n",
       "\n",
       "[1470 rows x 32 columns]"
      ]
     },
     "execution_count": 39,
     "metadata": {
      "tags": []
     },
     "output_type": "execute_result"
    }
   ],
   "source": [
    "final_df"
   ]
  },
  {
   "cell_type": "markdown",
   "metadata": {
    "id": "6i-y_TPZwXVL"
   },
   "source": [
    "## Machine Learning model dont understand the object type datv so we have to convert object type data into numeric type data"
   ]
  },
  {
   "cell_type": "code",
   "execution_count": null,
   "metadata": {
    "id": "buJcWJlFCTYp"
   },
   "outputs": [],
   "source": [
    "from sklearn.preprocessing import LabelEncoder\n",
    "label = LabelEncoder()\n",
    "\n",
    "final_df[['Attrition', 'BusinessTravel', 'Department', 'EducationField', 'Gender',\n",
    "       'JobRole', 'MaritalStatus', 'OverTime']] = final_df[['Attrition', 'BusinessTravel', 'Department', 'EducationField', 'Gender',\n",
    "       'JobRole', 'MaritalStatus', 'OverTime']].apply(label.fit_transform)\n"
   ]
  },
  {
   "cell_type": "markdown",
   "metadata": {
    "id": "qfCvFGdswtte"
   },
   "source": [
    "## Defining feature & target"
   ]
  },
  {
   "cell_type": "code",
   "execution_count": null,
   "metadata": {
    "id": "-2hIfRcwEFjQ"
   },
   "outputs": [],
   "source": [
    "x = final_df.iloc[:,:-1] ## feature\n",
    "y = final_df.iloc[:,-1]  ## target"
   ]
  },
  {
   "cell_type": "code",
   "execution_count": null,
   "metadata": {
    "colab": {
     "base_uri": "https://localhost:8080/"
    },
    "id": "fW7TLimwEtok",
    "outputId": "e14a9941-a691-444b-df31-e297f64a789d"
   },
   "outputs": [
    {
     "data": {
      "text/plain": [
       "0    1233\n",
       "1     237\n",
       "Name: Attrition, dtype: int64"
      ]
     },
     "execution_count": 42,
     "metadata": {
      "tags": []
     },
     "output_type": "execute_result"
    }
   ],
   "source": [
    "y.value_counts()"
   ]
  },
  {
   "cell_type": "markdown",
   "metadata": {
    "id": "pNRBlVrGxDMa"
   },
   "source": [
    "## From above observation, data is looklike imbalanced so we have to balanced it"
   ]
  },
  {
   "cell_type": "code",
   "execution_count": null,
   "metadata": {
    "id": "WHKEofZ8EPLx"
   },
   "outputs": [],
   "source": [
    "from imblearn.over_sampling import RandomOverSampler\n",
    "samplr = RandomOverSampler()\n",
    "x_over,y_over = samplr.fit_sample(x,y)"
   ]
  },
  {
   "cell_type": "code",
   "execution_count": null,
   "metadata": {
    "id": "2vFWKNmHErvb"
   },
   "outputs": [],
   "source": [
    "x_over = pd.DataFrame(x_over)\n",
    "x_over.columns = ['Age', 'DailyRate', 'DistanceFromHome', 'EmployeeNumber', 'HourlyRate',\n",
    "       'JobLevel', 'MonthlyIncome', 'MonthlyRate', 'NumCompaniesWorked',\n",
    "       'PercentSalaryHike', 'TotalWorkingYears', 'TrainingTimesLastYear',\n",
    "       'YearsAtCompany', 'YearsInCurrentRole', 'YearsSinceLastPromotion',\n",
    "       'YearsWithCurrManager', 'Education', 'EnvironmentSatisfaction',\n",
    "       'JobInvolvement', 'JobSatisfaction', 'PerformanceRating',\n",
    "       'RelationshipSatisfaction', 'StockOptionLevel', 'WorkLifeBalance',\n",
    "       'BusinessTravel', 'Department', 'EducationField', 'Gender', 'JobRole',\n",
    "       'MaritalStatus', 'OverTime']\n",
    "y_over = pd.DataFrame(y_over)\n",
    "y_over.columns = ['Attrition']\n"
   ]
  },
  {
   "cell_type": "code",
   "execution_count": null,
   "metadata": {
    "colab": {
     "base_uri": "https://localhost:8080/"
    },
    "id": "eF2-ggBsE0xq",
    "outputId": "1b702833-d883-4939-edac-8779c4efd9ba"
   },
   "outputs": [
    {
     "data": {
      "text/plain": [
       "Attrition\n",
       "1            1233\n",
       "0            1233\n",
       "dtype: int64"
      ]
     },
     "execution_count": 45,
     "metadata": {
      "tags": []
     },
     "output_type": "execute_result"
    }
   ],
   "source": [
    "y_over.value_counts()"
   ]
  },
  {
   "cell_type": "markdown",
   "metadata": {
    "id": "67jZNeznxTLM"
   },
   "source": [
    "## Now we can say that data is balanced"
   ]
  },
  {
   "cell_type": "code",
   "execution_count": null,
   "metadata": {
    "colab": {
     "base_uri": "https://localhost:8080/"
    },
    "id": "9BrQ7GwLLOhg",
    "outputId": "a742d9c6-7bdd-427f-f1ff-af1cb06a2deb"
   },
   "outputs": [
    {
     "data": {
      "text/html": [
       "<div>\n",
       "<style scoped>\n",
       "    .dataframe tbody tr th:only-of-type {\n",
       "        vertical-align: middle;\n",
       "    }\n",
       "\n",
       "    .dataframe tbody tr th {\n",
       "        vertical-align: top;\n",
       "    }\n",
       "\n",
       "    .dataframe thead th {\n",
       "        text-align: right;\n",
       "    }\n",
       "</style>\n",
       "<table border=\"1\" class=\"dataframe\">\n",
       "  <thead>\n",
       "    <tr style=\"text-align: right;\">\n",
       "      <th></th>\n",
       "      <th>Age</th>\n",
       "      <th>DailyRate</th>\n",
       "      <th>DistanceFromHome</th>\n",
       "      <th>EmployeeNumber</th>\n",
       "      <th>HourlyRate</th>\n",
       "      <th>JobLevel</th>\n",
       "      <th>MonthlyIncome</th>\n",
       "      <th>MonthlyRate</th>\n",
       "      <th>NumCompaniesWorked</th>\n",
       "      <th>PercentSalaryHike</th>\n",
       "      <th>TotalWorkingYears</th>\n",
       "      <th>TrainingTimesLastYear</th>\n",
       "      <th>YearsAtCompany</th>\n",
       "      <th>YearsInCurrentRole</th>\n",
       "      <th>YearsSinceLastPromotion</th>\n",
       "      <th>YearsWithCurrManager</th>\n",
       "      <th>Education</th>\n",
       "      <th>EnvironmentSatisfaction</th>\n",
       "      <th>JobInvolvement</th>\n",
       "      <th>JobSatisfaction</th>\n",
       "      <th>PerformanceRating</th>\n",
       "      <th>RelationshipSatisfaction</th>\n",
       "      <th>StockOptionLevel</th>\n",
       "      <th>WorkLifeBalance</th>\n",
       "      <th>BusinessTravel</th>\n",
       "      <th>Department</th>\n",
       "      <th>EducationField</th>\n",
       "      <th>Gender</th>\n",
       "      <th>JobRole</th>\n",
       "      <th>MaritalStatus</th>\n",
       "      <th>OverTime</th>\n",
       "    </tr>\n",
       "  </thead>\n",
       "  <tbody>\n",
       "    <tr>\n",
       "      <th>0</th>\n",
       "      <td>41.0</td>\n",
       "      <td>1102.0</td>\n",
       "      <td>1.0</td>\n",
       "      <td>1.0</td>\n",
       "      <td>94.0</td>\n",
       "      <td>2.0</td>\n",
       "      <td>5993.0</td>\n",
       "      <td>19479.0</td>\n",
       "      <td>7.0</td>\n",
       "      <td>11.0</td>\n",
       "      <td>8.0</td>\n",
       "      <td>2.0</td>\n",
       "      <td>6.0</td>\n",
       "      <td>4.0</td>\n",
       "      <td>0.000000</td>\n",
       "      <td>5.0</td>\n",
       "      <td>2.0</td>\n",
       "      <td>2.0</td>\n",
       "      <td>3.0</td>\n",
       "      <td>4.0</td>\n",
       "      <td>3.0</td>\n",
       "      <td>1.0</td>\n",
       "      <td>0.0</td>\n",
       "      <td>1.0</td>\n",
       "      <td>2.0</td>\n",
       "      <td>2.0</td>\n",
       "      <td>1.0</td>\n",
       "      <td>0.0</td>\n",
       "      <td>7.0</td>\n",
       "      <td>2.0</td>\n",
       "      <td>1.0</td>\n",
       "    </tr>\n",
       "    <tr>\n",
       "      <th>1</th>\n",
       "      <td>49.0</td>\n",
       "      <td>279.0</td>\n",
       "      <td>8.0</td>\n",
       "      <td>2.0</td>\n",
       "      <td>61.0</td>\n",
       "      <td>2.0</td>\n",
       "      <td>5130.0</td>\n",
       "      <td>24907.0</td>\n",
       "      <td>1.0</td>\n",
       "      <td>23.0</td>\n",
       "      <td>10.0</td>\n",
       "      <td>3.0</td>\n",
       "      <td>10.0</td>\n",
       "      <td>7.0</td>\n",
       "      <td>1.000000</td>\n",
       "      <td>7.0</td>\n",
       "      <td>1.0</td>\n",
       "      <td>3.0</td>\n",
       "      <td>2.0</td>\n",
       "      <td>2.0</td>\n",
       "      <td>4.0</td>\n",
       "      <td>4.0</td>\n",
       "      <td>1.0</td>\n",
       "      <td>3.0</td>\n",
       "      <td>1.0</td>\n",
       "      <td>1.0</td>\n",
       "      <td>1.0</td>\n",
       "      <td>1.0</td>\n",
       "      <td>6.0</td>\n",
       "      <td>1.0</td>\n",
       "      <td>0.0</td>\n",
       "    </tr>\n",
       "    <tr>\n",
       "      <th>2</th>\n",
       "      <td>37.0</td>\n",
       "      <td>1373.0</td>\n",
       "      <td>2.0</td>\n",
       "      <td>4.0</td>\n",
       "      <td>92.0</td>\n",
       "      <td>1.0</td>\n",
       "      <td>2317.6</td>\n",
       "      <td>2396.0</td>\n",
       "      <td>6.0</td>\n",
       "      <td>15.0</td>\n",
       "      <td>7.0</td>\n",
       "      <td>3.0</td>\n",
       "      <td>0.0</td>\n",
       "      <td>0.0</td>\n",
       "      <td>0.000000</td>\n",
       "      <td>0.0</td>\n",
       "      <td>2.0</td>\n",
       "      <td>4.0</td>\n",
       "      <td>2.0</td>\n",
       "      <td>3.0</td>\n",
       "      <td>3.0</td>\n",
       "      <td>2.0</td>\n",
       "      <td>0.0</td>\n",
       "      <td>3.0</td>\n",
       "      <td>2.0</td>\n",
       "      <td>1.0</td>\n",
       "      <td>4.0</td>\n",
       "      <td>1.0</td>\n",
       "      <td>2.0</td>\n",
       "      <td>2.0</td>\n",
       "      <td>1.0</td>\n",
       "    </tr>\n",
       "    <tr>\n",
       "      <th>3</th>\n",
       "      <td>33.0</td>\n",
       "      <td>1392.0</td>\n",
       "      <td>3.0</td>\n",
       "      <td>5.0</td>\n",
       "      <td>56.0</td>\n",
       "      <td>1.0</td>\n",
       "      <td>2909.0</td>\n",
       "      <td>23159.0</td>\n",
       "      <td>1.0</td>\n",
       "      <td>11.0</td>\n",
       "      <td>8.0</td>\n",
       "      <td>3.0</td>\n",
       "      <td>8.0</td>\n",
       "      <td>7.0</td>\n",
       "      <td>1.732051</td>\n",
       "      <td>0.0</td>\n",
       "      <td>4.0</td>\n",
       "      <td>4.0</td>\n",
       "      <td>3.0</td>\n",
       "      <td>3.0</td>\n",
       "      <td>3.0</td>\n",
       "      <td>3.0</td>\n",
       "      <td>0.0</td>\n",
       "      <td>3.0</td>\n",
       "      <td>1.0</td>\n",
       "      <td>1.0</td>\n",
       "      <td>1.0</td>\n",
       "      <td>0.0</td>\n",
       "      <td>6.0</td>\n",
       "      <td>1.0</td>\n",
       "      <td>1.0</td>\n",
       "    </tr>\n",
       "    <tr>\n",
       "      <th>4</th>\n",
       "      <td>27.0</td>\n",
       "      <td>591.0</td>\n",
       "      <td>2.0</td>\n",
       "      <td>7.0</td>\n",
       "      <td>40.0</td>\n",
       "      <td>1.0</td>\n",
       "      <td>3468.0</td>\n",
       "      <td>16632.0</td>\n",
       "      <td>7.0</td>\n",
       "      <td>12.0</td>\n",
       "      <td>6.0</td>\n",
       "      <td>3.0</td>\n",
       "      <td>2.0</td>\n",
       "      <td>2.0</td>\n",
       "      <td>1.414214</td>\n",
       "      <td>2.0</td>\n",
       "      <td>1.0</td>\n",
       "      <td>1.0</td>\n",
       "      <td>3.0</td>\n",
       "      <td>2.0</td>\n",
       "      <td>3.0</td>\n",
       "      <td>4.0</td>\n",
       "      <td>1.0</td>\n",
       "      <td>3.0</td>\n",
       "      <td>2.0</td>\n",
       "      <td>1.0</td>\n",
       "      <td>3.0</td>\n",
       "      <td>1.0</td>\n",
       "      <td>2.0</td>\n",
       "      <td>1.0</td>\n",
       "      <td>0.0</td>\n",
       "    </tr>\n",
       "    <tr>\n",
       "      <th>...</th>\n",
       "      <td>...</td>\n",
       "      <td>...</td>\n",
       "      <td>...</td>\n",
       "      <td>...</td>\n",
       "      <td>...</td>\n",
       "      <td>...</td>\n",
       "      <td>...</td>\n",
       "      <td>...</td>\n",
       "      <td>...</td>\n",
       "      <td>...</td>\n",
       "      <td>...</td>\n",
       "      <td>...</td>\n",
       "      <td>...</td>\n",
       "      <td>...</td>\n",
       "      <td>...</td>\n",
       "      <td>...</td>\n",
       "      <td>...</td>\n",
       "      <td>...</td>\n",
       "      <td>...</td>\n",
       "      <td>...</td>\n",
       "      <td>...</td>\n",
       "      <td>...</td>\n",
       "      <td>...</td>\n",
       "      <td>...</td>\n",
       "      <td>...</td>\n",
       "      <td>...</td>\n",
       "      <td>...</td>\n",
       "      <td>...</td>\n",
       "      <td>...</td>\n",
       "      <td>...</td>\n",
       "      <td>...</td>\n",
       "    </tr>\n",
       "    <tr>\n",
       "      <th>2461</th>\n",
       "      <td>29.0</td>\n",
       "      <td>805.0</td>\n",
       "      <td>1.0</td>\n",
       "      <td>816.0</td>\n",
       "      <td>36.0</td>\n",
       "      <td>1.0</td>\n",
       "      <td>2319.0</td>\n",
       "      <td>6689.0</td>\n",
       "      <td>1.0</td>\n",
       "      <td>11.0</td>\n",
       "      <td>1.0</td>\n",
       "      <td>2.0</td>\n",
       "      <td>1.0</td>\n",
       "      <td>0.0</td>\n",
       "      <td>0.000000</td>\n",
       "      <td>0.0</td>\n",
       "      <td>2.0</td>\n",
       "      <td>2.0</td>\n",
       "      <td>2.0</td>\n",
       "      <td>1.0</td>\n",
       "      <td>3.0</td>\n",
       "      <td>4.0</td>\n",
       "      <td>1.0</td>\n",
       "      <td>3.0</td>\n",
       "      <td>2.0</td>\n",
       "      <td>1.0</td>\n",
       "      <td>1.0</td>\n",
       "      <td>0.0</td>\n",
       "      <td>2.0</td>\n",
       "      <td>1.0</td>\n",
       "      <td>1.0</td>\n",
       "    </tr>\n",
       "    <tr>\n",
       "      <th>2462</th>\n",
       "      <td>39.0</td>\n",
       "      <td>1122.0</td>\n",
       "      <td>6.0</td>\n",
       "      <td>932.0</td>\n",
       "      <td>70.0</td>\n",
       "      <td>1.0</td>\n",
       "      <td>2404.0</td>\n",
       "      <td>4303.0</td>\n",
       "      <td>7.0</td>\n",
       "      <td>21.0</td>\n",
       "      <td>8.0</td>\n",
       "      <td>2.0</td>\n",
       "      <td>2.0</td>\n",
       "      <td>2.0</td>\n",
       "      <td>1.414214</td>\n",
       "      <td>2.0</td>\n",
       "      <td>3.0</td>\n",
       "      <td>4.0</td>\n",
       "      <td>3.0</td>\n",
       "      <td>1.0</td>\n",
       "      <td>4.0</td>\n",
       "      <td>4.0</td>\n",
       "      <td>0.0</td>\n",
       "      <td>1.0</td>\n",
       "      <td>2.0</td>\n",
       "      <td>1.0</td>\n",
       "      <td>3.0</td>\n",
       "      <td>1.0</td>\n",
       "      <td>2.0</td>\n",
       "      <td>1.0</td>\n",
       "      <td>1.0</td>\n",
       "    </tr>\n",
       "    <tr>\n",
       "      <th>2463</th>\n",
       "      <td>29.0</td>\n",
       "      <td>1092.0</td>\n",
       "      <td>1.0</td>\n",
       "      <td>2027.0</td>\n",
       "      <td>36.0</td>\n",
       "      <td>1.0</td>\n",
       "      <td>4787.0</td>\n",
       "      <td>26124.0</td>\n",
       "      <td>7.0</td>\n",
       "      <td>14.0</td>\n",
       "      <td>4.0</td>\n",
       "      <td>3.0</td>\n",
       "      <td>2.0</td>\n",
       "      <td>2.0</td>\n",
       "      <td>1.414214</td>\n",
       "      <td>2.0</td>\n",
       "      <td>4.0</td>\n",
       "      <td>1.0</td>\n",
       "      <td>3.0</td>\n",
       "      <td>4.0</td>\n",
       "      <td>3.0</td>\n",
       "      <td>2.0</td>\n",
       "      <td>3.0</td>\n",
       "      <td>4.0</td>\n",
       "      <td>2.0</td>\n",
       "      <td>1.0</td>\n",
       "      <td>3.0</td>\n",
       "      <td>1.0</td>\n",
       "      <td>6.0</td>\n",
       "      <td>1.0</td>\n",
       "      <td>1.0</td>\n",
       "    </tr>\n",
       "    <tr>\n",
       "      <th>2464</th>\n",
       "      <td>56.0</td>\n",
       "      <td>441.0</td>\n",
       "      <td>14.0</td>\n",
       "      <td>161.0</td>\n",
       "      <td>72.0</td>\n",
       "      <td>1.0</td>\n",
       "      <td>4963.0</td>\n",
       "      <td>4510.0</td>\n",
       "      <td>7.0</td>\n",
       "      <td>18.0</td>\n",
       "      <td>7.0</td>\n",
       "      <td>2.0</td>\n",
       "      <td>5.0</td>\n",
       "      <td>4.0</td>\n",
       "      <td>2.000000</td>\n",
       "      <td>3.0</td>\n",
       "      <td>4.0</td>\n",
       "      <td>2.0</td>\n",
       "      <td>3.0</td>\n",
       "      <td>2.0</td>\n",
       "      <td>3.0</td>\n",
       "      <td>1.0</td>\n",
       "      <td>3.0</td>\n",
       "      <td>3.0</td>\n",
       "      <td>2.0</td>\n",
       "      <td>1.0</td>\n",
       "      <td>1.0</td>\n",
       "      <td>0.0</td>\n",
       "      <td>6.0</td>\n",
       "      <td>1.0</td>\n",
       "      <td>1.0</td>\n",
       "    </tr>\n",
       "    <tr>\n",
       "      <th>2465</th>\n",
       "      <td>26.0</td>\n",
       "      <td>1449.0</td>\n",
       "      <td>16.0</td>\n",
       "      <td>394.0</td>\n",
       "      <td>45.0</td>\n",
       "      <td>1.0</td>\n",
       "      <td>2373.0</td>\n",
       "      <td>14180.0</td>\n",
       "      <td>2.0</td>\n",
       "      <td>13.0</td>\n",
       "      <td>5.0</td>\n",
       "      <td>2.0</td>\n",
       "      <td>3.0</td>\n",
       "      <td>2.0</td>\n",
       "      <td>0.000000</td>\n",
       "      <td>2.0</td>\n",
       "      <td>4.0</td>\n",
       "      <td>1.0</td>\n",
       "      <td>3.0</td>\n",
       "      <td>2.0</td>\n",
       "      <td>3.0</td>\n",
       "      <td>4.0</td>\n",
       "      <td>1.0</td>\n",
       "      <td>3.0</td>\n",
       "      <td>2.0</td>\n",
       "      <td>1.0</td>\n",
       "      <td>3.0</td>\n",
       "      <td>1.0</td>\n",
       "      <td>2.0</td>\n",
       "      <td>0.0</td>\n",
       "      <td>1.0</td>\n",
       "    </tr>\n",
       "  </tbody>\n",
       "</table>\n",
       "<p>2466 rows × 31 columns</p>\n",
       "</div>"
      ],
      "text/plain": [
       "       Age  DailyRate  DistanceFromHome  ...  JobRole  MaritalStatus  OverTime\n",
       "0     41.0     1102.0               1.0  ...      7.0            2.0       1.0\n",
       "1     49.0      279.0               8.0  ...      6.0            1.0       0.0\n",
       "2     37.0     1373.0               2.0  ...      2.0            2.0       1.0\n",
       "3     33.0     1392.0               3.0  ...      6.0            1.0       1.0\n",
       "4     27.0      591.0               2.0  ...      2.0            1.0       0.0\n",
       "...    ...        ...               ...  ...      ...            ...       ...\n",
       "2461  29.0      805.0               1.0  ...      2.0            1.0       1.0\n",
       "2462  39.0     1122.0               6.0  ...      2.0            1.0       1.0\n",
       "2463  29.0     1092.0               1.0  ...      6.0            1.0       1.0\n",
       "2464  56.0      441.0              14.0  ...      6.0            1.0       1.0\n",
       "2465  26.0     1449.0              16.0  ...      2.0            0.0       1.0\n",
       "\n",
       "[2466 rows x 31 columns]"
      ]
     },
     "execution_count": 46,
     "metadata": {
      "tags": []
     },
     "output_type": "execute_result"
    }
   ],
   "source": [
    "x_over"
   ]
  },
  {
   "cell_type": "markdown",
   "metadata": {
    "id": "HPRJxtIRxxuo"
   },
   "source": [
    "## Data standardization is about making sure that data is internally consistent; that is, each data type has the same content and format."
   ]
  },
  {
   "cell_type": "code",
   "execution_count": null,
   "metadata": {
    "colab": {
     "base_uri": "https://localhost:8080/"
    },
    "id": "dwOnAgW2Kk1y",
    "outputId": "f01feb00-10f3-4658-abe0-a69250e46056"
   },
   "outputs": [
    {
     "data": {
      "text/html": [
       "<div>\n",
       "<style scoped>\n",
       "    .dataframe tbody tr th:only-of-type {\n",
       "        vertical-align: middle;\n",
       "    }\n",
       "\n",
       "    .dataframe tbody tr th {\n",
       "        vertical-align: top;\n",
       "    }\n",
       "\n",
       "    .dataframe thead th {\n",
       "        text-align: right;\n",
       "    }\n",
       "</style>\n",
       "<table border=\"1\" class=\"dataframe\">\n",
       "  <thead>\n",
       "    <tr style=\"text-align: right;\">\n",
       "      <th></th>\n",
       "      <th>Age</th>\n",
       "      <th>DailyRate</th>\n",
       "      <th>DistanceFromHome</th>\n",
       "      <th>EmployeeNumber</th>\n",
       "      <th>HourlyRate</th>\n",
       "      <th>JobLevel</th>\n",
       "      <th>MonthlyIncome</th>\n",
       "      <th>MonthlyRate</th>\n",
       "      <th>NumCompaniesWorked</th>\n",
       "      <th>PercentSalaryHike</th>\n",
       "      <th>TotalWorkingYears</th>\n",
       "      <th>TrainingTimesLastYear</th>\n",
       "      <th>YearsAtCompany</th>\n",
       "      <th>YearsInCurrentRole</th>\n",
       "      <th>YearsSinceLastPromotion</th>\n",
       "      <th>YearsWithCurrManager</th>\n",
       "      <th>Education</th>\n",
       "      <th>EnvironmentSatisfaction</th>\n",
       "      <th>JobInvolvement</th>\n",
       "      <th>JobSatisfaction</th>\n",
       "      <th>PerformanceRating</th>\n",
       "      <th>RelationshipSatisfaction</th>\n",
       "      <th>StockOptionLevel</th>\n",
       "      <th>WorkLifeBalance</th>\n",
       "      <th>BusinessTravel</th>\n",
       "      <th>Department</th>\n",
       "      <th>EducationField</th>\n",
       "      <th>Gender</th>\n",
       "      <th>JobRole</th>\n",
       "      <th>MaritalStatus</th>\n",
       "      <th>OverTime</th>\n",
       "    </tr>\n",
       "  </thead>\n",
       "  <tbody>\n",
       "    <tr>\n",
       "      <th>0</th>\n",
       "      <td>0.572709</td>\n",
       "      <td>0.811385</td>\n",
       "      <td>-1.044679</td>\n",
       "      <td>-1.693804</td>\n",
       "      <td>1.418626</td>\n",
       "      <td>0.105221</td>\n",
       "      <td>0.119174</td>\n",
       "      <td>0.677587</td>\n",
       "      <td>1.790124</td>\n",
       "      <td>-1.141068</td>\n",
       "      <td>-0.248875</td>\n",
       "      <td>-0.832528</td>\n",
       "      <td>0.077234</td>\n",
       "      <td>0.152598</td>\n",
       "      <td>-0.946416</td>\n",
       "      <td>0.410463</td>\n",
       "      <td>-0.867967</td>\n",
       "      <td>-0.550799</td>\n",
       "      <td>0.464806</td>\n",
       "      <td>1.229257</td>\n",
       "      <td>-0.434749</td>\n",
       "      <td>-1.515916</td>\n",
       "      <td>-0.791774</td>\n",
       "      <td>-2.237395</td>\n",
       "      <td>0.603822</td>\n",
       "      <td>1.338527</td>\n",
       "      <td>-0.938854</td>\n",
       "      <td>-1.256781</td>\n",
       "      <td>0.974287</td>\n",
       "      <td>1.092260</td>\n",
       "      <td>1.249299</td>\n",
       "    </tr>\n",
       "    <tr>\n",
       "      <th>1</th>\n",
       "      <td>1.419983</td>\n",
       "      <td>-1.235273</td>\n",
       "      <td>-0.203105</td>\n",
       "      <td>-1.692123</td>\n",
       "      <td>-0.220007</td>\n",
       "      <td>0.105221</td>\n",
       "      <td>-0.120911</td>\n",
       "      <td>1.431448</td>\n",
       "      <td>-0.729058</td>\n",
       "      <td>2.089866</td>\n",
       "      <td>0.058680</td>\n",
       "      <td>0.182810</td>\n",
       "      <td>0.986349</td>\n",
       "      <td>1.127483</td>\n",
       "      <td>0.005224</td>\n",
       "      <td>0.997587</td>\n",
       "      <td>-1.855240</td>\n",
       "      <td>0.327772</td>\n",
       "      <td>-0.882093</td>\n",
       "      <td>-0.561262</td>\n",
       "      <td>2.300177</td>\n",
       "      <td>1.196891</td>\n",
       "      <td>0.365615</td>\n",
       "      <td>0.367617</td>\n",
       "      <td>-1.009422</td>\n",
       "      <td>-0.524231</td>\n",
       "      <td>-0.938854</td>\n",
       "      <td>0.795684</td>\n",
       "      <td>0.575185</td>\n",
       "      <td>-0.262626</td>\n",
       "      <td>-0.800449</td>\n",
       "    </tr>\n",
       "    <tr>\n",
       "      <th>2</th>\n",
       "      <td>0.149072</td>\n",
       "      <td>1.485315</td>\n",
       "      <td>-0.924454</td>\n",
       "      <td>-1.688762</td>\n",
       "      <td>1.319315</td>\n",
       "      <td>-0.828146</td>\n",
       "      <td>-0.903316</td>\n",
       "      <td>-1.694961</td>\n",
       "      <td>1.370261</td>\n",
       "      <td>-0.064090</td>\n",
       "      <td>-0.402652</td>\n",
       "      <td>0.182810</td>\n",
       "      <td>-1.286438</td>\n",
       "      <td>-1.147250</td>\n",
       "      <td>-0.946416</td>\n",
       "      <td>-1.057347</td>\n",
       "      <td>-0.867967</td>\n",
       "      <td>1.206342</td>\n",
       "      <td>-0.882093</td>\n",
       "      <td>0.333998</td>\n",
       "      <td>-0.434749</td>\n",
       "      <td>-0.611647</td>\n",
       "      <td>-0.791774</td>\n",
       "      <td>0.367617</td>\n",
       "      <td>0.603822</td>\n",
       "      <td>-0.524231</td>\n",
       "      <td>1.264013</td>\n",
       "      <td>0.795684</td>\n",
       "      <td>-1.021221</td>\n",
       "      <td>1.092260</td>\n",
       "      <td>1.249299</td>\n",
       "    </tr>\n",
       "    <tr>\n",
       "      <th>3</th>\n",
       "      <td>-0.274565</td>\n",
       "      <td>1.532565</td>\n",
       "      <td>-0.804229</td>\n",
       "      <td>-1.687081</td>\n",
       "      <td>-0.468284</td>\n",
       "      <td>-0.828146</td>\n",
       "      <td>-0.738790</td>\n",
       "      <td>1.188679</td>\n",
       "      <td>-0.729058</td>\n",
       "      <td>-1.141068</td>\n",
       "      <td>-0.248875</td>\n",
       "      <td>0.182810</td>\n",
       "      <td>0.531792</td>\n",
       "      <td>1.127483</td>\n",
       "      <td>0.701873</td>\n",
       "      <td>-1.057347</td>\n",
       "      <td>1.106578</td>\n",
       "      <td>1.206342</td>\n",
       "      <td>0.464806</td>\n",
       "      <td>0.333998</td>\n",
       "      <td>-0.434749</td>\n",
       "      <td>0.292622</td>\n",
       "      <td>-0.791774</td>\n",
       "      <td>0.367617</td>\n",
       "      <td>-1.009422</td>\n",
       "      <td>-0.524231</td>\n",
       "      <td>-0.938854</td>\n",
       "      <td>-1.256781</td>\n",
       "      <td>0.575185</td>\n",
       "      <td>-0.262626</td>\n",
       "      <td>1.249299</td>\n",
       "    </tr>\n",
       "    <tr>\n",
       "      <th>4</th>\n",
       "      <td>-0.910021</td>\n",
       "      <td>-0.459383</td>\n",
       "      <td>-0.924454</td>\n",
       "      <td>-1.683719</td>\n",
       "      <td>-1.262773</td>\n",
       "      <td>-0.828146</td>\n",
       "      <td>-0.583277</td>\n",
       "      <td>0.282186</td>\n",
       "      <td>1.790124</td>\n",
       "      <td>-0.871824</td>\n",
       "      <td>-0.556429</td>\n",
       "      <td>0.182810</td>\n",
       "      <td>-0.831881</td>\n",
       "      <td>-0.497326</td>\n",
       "      <td>0.399406</td>\n",
       "      <td>-0.470223</td>\n",
       "      <td>-1.855240</td>\n",
       "      <td>-1.429369</td>\n",
       "      <td>0.464806</td>\n",
       "      <td>-0.561262</td>\n",
       "      <td>-0.434749</td>\n",
       "      <td>1.196891</td>\n",
       "      <td>0.365615</td>\n",
       "      <td>0.367617</td>\n",
       "      <td>0.603822</td>\n",
       "      <td>-0.524231</td>\n",
       "      <td>0.529724</td>\n",
       "      <td>0.795684</td>\n",
       "      <td>-1.021221</td>\n",
       "      <td>-0.262626</td>\n",
       "      <td>-0.800449</td>\n",
       "    </tr>\n",
       "    <tr>\n",
       "      <th>...</th>\n",
       "      <td>...</td>\n",
       "      <td>...</td>\n",
       "      <td>...</td>\n",
       "      <td>...</td>\n",
       "      <td>...</td>\n",
       "      <td>...</td>\n",
       "      <td>...</td>\n",
       "      <td>...</td>\n",
       "      <td>...</td>\n",
       "      <td>...</td>\n",
       "      <td>...</td>\n",
       "      <td>...</td>\n",
       "      <td>...</td>\n",
       "      <td>...</td>\n",
       "      <td>...</td>\n",
       "      <td>...</td>\n",
       "      <td>...</td>\n",
       "      <td>...</td>\n",
       "      <td>...</td>\n",
       "      <td>...</td>\n",
       "      <td>...</td>\n",
       "      <td>...</td>\n",
       "      <td>...</td>\n",
       "      <td>...</td>\n",
       "      <td>...</td>\n",
       "      <td>...</td>\n",
       "      <td>...</td>\n",
       "      <td>...</td>\n",
       "      <td>...</td>\n",
       "      <td>...</td>\n",
       "      <td>...</td>\n",
       "    </tr>\n",
       "    <tr>\n",
       "      <th>2461</th>\n",
       "      <td>-0.698202</td>\n",
       "      <td>0.072798</td>\n",
       "      <td>-1.044679</td>\n",
       "      <td>-0.323966</td>\n",
       "      <td>-1.461395</td>\n",
       "      <td>-0.828146</td>\n",
       "      <td>-0.902927</td>\n",
       "      <td>-1.098734</td>\n",
       "      <td>-0.729058</td>\n",
       "      <td>-1.141068</td>\n",
       "      <td>-1.325315</td>\n",
       "      <td>-0.832528</td>\n",
       "      <td>-1.059160</td>\n",
       "      <td>-1.147250</td>\n",
       "      <td>-0.946416</td>\n",
       "      <td>-1.057347</td>\n",
       "      <td>-0.867967</td>\n",
       "      <td>-0.550799</td>\n",
       "      <td>-0.882093</td>\n",
       "      <td>-1.456521</td>\n",
       "      <td>-0.434749</td>\n",
       "      <td>1.196891</td>\n",
       "      <td>0.365615</td>\n",
       "      <td>0.367617</td>\n",
       "      <td>0.603822</td>\n",
       "      <td>-0.524231</td>\n",
       "      <td>-0.938854</td>\n",
       "      <td>-1.256781</td>\n",
       "      <td>-1.021221</td>\n",
       "      <td>-0.262626</td>\n",
       "      <td>1.249299</td>\n",
       "    </tr>\n",
       "    <tr>\n",
       "      <th>2462</th>\n",
       "      <td>0.360890</td>\n",
       "      <td>0.861122</td>\n",
       "      <td>-0.443555</td>\n",
       "      <td>-0.128996</td>\n",
       "      <td>0.226893</td>\n",
       "      <td>-0.828146</td>\n",
       "      <td>-0.879280</td>\n",
       "      <td>-1.430110</td>\n",
       "      <td>1.790124</td>\n",
       "      <td>1.551377</td>\n",
       "      <td>-0.248875</td>\n",
       "      <td>-0.832528</td>\n",
       "      <td>-0.831881</td>\n",
       "      <td>-0.497326</td>\n",
       "      <td>0.399406</td>\n",
       "      <td>-0.470223</td>\n",
       "      <td>0.119305</td>\n",
       "      <td>1.206342</td>\n",
       "      <td>0.464806</td>\n",
       "      <td>-1.456521</td>\n",
       "      <td>2.300177</td>\n",
       "      <td>1.196891</td>\n",
       "      <td>-0.791774</td>\n",
       "      <td>-2.237395</td>\n",
       "      <td>0.603822</td>\n",
       "      <td>-0.524231</td>\n",
       "      <td>0.529724</td>\n",
       "      <td>0.795684</td>\n",
       "      <td>-1.021221</td>\n",
       "      <td>-0.262626</td>\n",
       "      <td>1.249299</td>\n",
       "    </tr>\n",
       "    <tr>\n",
       "      <th>2463</th>\n",
       "      <td>-0.698202</td>\n",
       "      <td>0.786517</td>\n",
       "      <td>-1.044679</td>\n",
       "      <td>1.711461</td>\n",
       "      <td>-1.461395</td>\n",
       "      <td>-0.828146</td>\n",
       "      <td>-0.216333</td>\n",
       "      <td>1.600469</td>\n",
       "      <td>1.790124</td>\n",
       "      <td>-0.333335</td>\n",
       "      <td>-0.863984</td>\n",
       "      <td>0.182810</td>\n",
       "      <td>-0.831881</td>\n",
       "      <td>-0.497326</td>\n",
       "      <td>0.399406</td>\n",
       "      <td>-0.470223</td>\n",
       "      <td>1.106578</td>\n",
       "      <td>-1.429369</td>\n",
       "      <td>0.464806</td>\n",
       "      <td>1.229257</td>\n",
       "      <td>-0.434749</td>\n",
       "      <td>-0.611647</td>\n",
       "      <td>2.680393</td>\n",
       "      <td>1.670123</td>\n",
       "      <td>0.603822</td>\n",
       "      <td>-0.524231</td>\n",
       "      <td>0.529724</td>\n",
       "      <td>0.795684</td>\n",
       "      <td>0.575185</td>\n",
       "      <td>-0.262626</td>\n",
       "      <td>1.249299</td>\n",
       "    </tr>\n",
       "    <tr>\n",
       "      <th>2464</th>\n",
       "      <td>2.161347</td>\n",
       "      <td>-0.832407</td>\n",
       "      <td>0.518244</td>\n",
       "      <td>-1.424879</td>\n",
       "      <td>0.326204</td>\n",
       "      <td>-0.828146</td>\n",
       "      <td>-0.167370</td>\n",
       "      <td>-1.401361</td>\n",
       "      <td>1.790124</td>\n",
       "      <td>0.743643</td>\n",
       "      <td>-0.402652</td>\n",
       "      <td>-0.832528</td>\n",
       "      <td>-0.150045</td>\n",
       "      <td>0.152598</td>\n",
       "      <td>0.956864</td>\n",
       "      <td>-0.176661</td>\n",
       "      <td>1.106578</td>\n",
       "      <td>-0.550799</td>\n",
       "      <td>0.464806</td>\n",
       "      <td>-0.561262</td>\n",
       "      <td>-0.434749</td>\n",
       "      <td>-1.515916</td>\n",
       "      <td>2.680393</td>\n",
       "      <td>0.367617</td>\n",
       "      <td>0.603822</td>\n",
       "      <td>-0.524231</td>\n",
       "      <td>-0.938854</td>\n",
       "      <td>-1.256781</td>\n",
       "      <td>0.575185</td>\n",
       "      <td>-0.262626</td>\n",
       "      <td>1.249299</td>\n",
       "    </tr>\n",
       "    <tr>\n",
       "      <th>2465</th>\n",
       "      <td>-1.015930</td>\n",
       "      <td>1.674314</td>\n",
       "      <td>0.758694</td>\n",
       "      <td>-1.033256</td>\n",
       "      <td>-1.014495</td>\n",
       "      <td>-0.828146</td>\n",
       "      <td>-0.887904</td>\n",
       "      <td>-0.058357</td>\n",
       "      <td>-0.309194</td>\n",
       "      <td>-0.602579</td>\n",
       "      <td>-0.710206</td>\n",
       "      <td>-0.832528</td>\n",
       "      <td>-0.604602</td>\n",
       "      <td>-0.497326</td>\n",
       "      <td>-0.946416</td>\n",
       "      <td>-0.470223</td>\n",
       "      <td>1.106578</td>\n",
       "      <td>-1.429369</td>\n",
       "      <td>0.464806</td>\n",
       "      <td>-0.561262</td>\n",
       "      <td>-0.434749</td>\n",
       "      <td>1.196891</td>\n",
       "      <td>0.365615</td>\n",
       "      <td>0.367617</td>\n",
       "      <td>0.603822</td>\n",
       "      <td>-0.524231</td>\n",
       "      <td>0.529724</td>\n",
       "      <td>0.795684</td>\n",
       "      <td>-1.021221</td>\n",
       "      <td>-1.617511</td>\n",
       "      <td>1.249299</td>\n",
       "    </tr>\n",
       "  </tbody>\n",
       "</table>\n",
       "<p>2466 rows × 31 columns</p>\n",
       "</div>"
      ],
      "text/plain": [
       "           Age  DailyRate  DistanceFromHome  ...   JobRole  MaritalStatus  OverTime\n",
       "0     0.572709   0.811385         -1.044679  ...  0.974287       1.092260  1.249299\n",
       "1     1.419983  -1.235273         -0.203105  ...  0.575185      -0.262626 -0.800449\n",
       "2     0.149072   1.485315         -0.924454  ... -1.021221       1.092260  1.249299\n",
       "3    -0.274565   1.532565         -0.804229  ...  0.575185      -0.262626  1.249299\n",
       "4    -0.910021  -0.459383         -0.924454  ... -1.021221      -0.262626 -0.800449\n",
       "...        ...        ...               ...  ...       ...            ...       ...\n",
       "2461 -0.698202   0.072798         -1.044679  ... -1.021221      -0.262626  1.249299\n",
       "2462  0.360890   0.861122         -0.443555  ... -1.021221      -0.262626  1.249299\n",
       "2463 -0.698202   0.786517         -1.044679  ...  0.575185      -0.262626  1.249299\n",
       "2464  2.161347  -0.832407          0.518244  ...  0.575185      -0.262626  1.249299\n",
       "2465 -1.015930   1.674314          0.758694  ... -1.021221      -1.617511  1.249299\n",
       "\n",
       "[2466 rows x 31 columns]"
      ]
     },
     "execution_count": 47,
     "metadata": {
      "tags": []
     },
     "output_type": "execute_result"
    }
   ],
   "source": [
    "from sklearn.preprocessing import StandardScaler\n",
    "scaler=StandardScaler()\n",
    "x=scaler.fit_transform(x_over)\n",
    "x = pd.DataFrame(x)\n",
    "x.columns = ['Age', 'DailyRate', 'DistanceFromHome', 'EmployeeNumber', 'HourlyRate',\n",
    "       'JobLevel', 'MonthlyIncome', 'MonthlyRate', 'NumCompaniesWorked',\n",
    "       'PercentSalaryHike', 'TotalWorkingYears', 'TrainingTimesLastYear',\n",
    "       'YearsAtCompany', 'YearsInCurrentRole', 'YearsSinceLastPromotion',\n",
    "       'YearsWithCurrManager', 'Education', 'EnvironmentSatisfaction',\n",
    "       'JobInvolvement', 'JobSatisfaction', 'PerformanceRating',\n",
    "       'RelationshipSatisfaction', 'StockOptionLevel', 'WorkLifeBalance',\n",
    "       'BusinessTravel', 'Department', 'EducationField', 'Gender', 'JobRole',\n",
    "       'MaritalStatus', 'OverTime']\n",
    "x"
   ]
  },
  {
   "cell_type": "markdown",
   "metadata": {
    "id": "2uPewKxiyOIn"
   },
   "source": [
    "## Feature Selection"
   ]
  },
  {
   "cell_type": "code",
   "execution_count": null,
   "metadata": {
    "colab": {
     "base_uri": "https://localhost:8080/"
    },
    "id": "DwM4KCM2LkTS",
    "outputId": "dd502148-ae0c-4640-bb62-77c93f44681e"
   },
   "outputs": [
    {
     "data": {
      "text/plain": [
       "Index(['EmployeeNumber', 'MonthlyRate', 'MonthlyIncome', 'DailyRate',\n",
       "       'OverTime', 'Age', 'TotalWorkingYears', 'YearsWithCurrManager',\n",
       "       'YearsAtCompany', 'YearsInCurrentRole', 'JobRole'],\n",
       "      dtype='object')"
      ]
     },
     "execution_count": 48,
     "metadata": {
      "tags": []
     },
     "output_type": "execute_result"
    }
   ],
   "source": [
    "from sklearn.feature_selection import mutual_info_classif\n",
    "importance = mutual_info_classif(x,y_over,random_state=42)\n",
    "feat_importance = pd.DataFrame(importance,x.columns[0:len(x.columns)])\n",
    "feat_importance = feat_importance*100\n",
    "feat_importance.columns = [\"Score\"]\n",
    "feat_importance.nlargest(11,\"Score\").index"
   ]
  },
  {
   "cell_type": "code",
   "execution_count": null,
   "metadata": {
    "id": "4WMSFRvgyjeC"
   },
   "outputs": [],
   "source": []
  },
  {
   "cell_type": "markdown",
   "metadata": {
    "id": "9_lJ6LYzyk6S"
   },
   "source": [
    "## Defining feature for ml algo"
   ]
  },
  {
   "cell_type": "code",
   "execution_count": null,
   "metadata": {
    "id": "EQx-a1ejP6Kq"
   },
   "outputs": [],
   "source": [
    "feature = x[['MonthlyRate', 'MonthlyIncome', 'DailyRate', 'Age',\n",
    "       'TotalWorkingYears', 'JobLevel', 'OverTime', 'YearsInCurrentRole',\n",
    "       'HourlyRate', 'YearsWithCurrManager']]"
   ]
  },
  {
   "cell_type": "code",
   "execution_count": null,
   "metadata": {
    "id": "xDtKmkNBysjT"
   },
   "outputs": [],
   "source": []
  },
  {
   "cell_type": "markdown",
   "metadata": {
    "id": "CKYz-Y8qy_uL"
   },
   "source": [
    "## Spilting the data for training & test data\n"
   ]
  },
  {
   "cell_type": "code",
   "execution_count": null,
   "metadata": {
    "id": "zwePqPqLGLp7"
   },
   "outputs": [],
   "source": [
    "from sklearn.model_selection import train_test_split\n",
    "x_train,x_test,y_train,y_test = train_test_split(feature,y_over,test_size=0.30,random_state=42)"
   ]
  },
  {
   "cell_type": "markdown",
   "metadata": {
    "id": "w2NynKfRzC0P"
   },
   "source": [
    "## Import ML algorithm & train the model"
   ]
  },
  {
   "cell_type": "code",
   "execution_count": null,
   "metadata": {
    "colab": {
     "base_uri": "https://localhost:8080/"
    },
    "id": "aytk3bwdE--j",
    "outputId": "a785ac76-040a-426f-a9c0-e28c0dd5169a"
   },
   "outputs": [
    {
     "data": {
      "text/plain": [
       "ExtraTreesClassifier(bootstrap=False, ccp_alpha=0.0, class_weight=None,\n",
       "                     criterion='gini', max_depth=None, max_features='auto',\n",
       "                     max_leaf_nodes=None, max_samples=None,\n",
       "                     min_impurity_decrease=0.0, min_impurity_split=None,\n",
       "                     min_samples_leaf=1, min_samples_split=2,\n",
       "                     min_weight_fraction_leaf=0.0, n_estimators=100,\n",
       "                     n_jobs=None, oob_score=False, random_state=None, verbose=0,\n",
       "                     warm_start=False)"
      ]
     },
     "execution_count": 51,
     "metadata": {
      "tags": []
     },
     "output_type": "execute_result"
    }
   ],
   "source": [
    "from sklearn.ensemble import ExtraTreesClassifier\n",
    "model = ExtraTreesClassifier()\n",
    "model.fit(x_train,y_train)"
   ]
  },
  {
   "cell_type": "markdown",
   "metadata": {
    "id": "-tFz-XrpzQqk"
   },
   "source": [
    "## Predicting the test data"
   ]
  },
  {
   "cell_type": "code",
   "execution_count": null,
   "metadata": {
    "id": "9KlC5aO8H95f"
   },
   "outputs": [],
   "source": [
    "y_predict = model.predict(x_test)"
   ]
  },
  {
   "cell_type": "code",
   "execution_count": null,
   "metadata": {
    "id": "0r6QkMra2ZDH"
   },
   "outputs": [],
   "source": []
  },
  {
   "cell_type": "markdown",
   "metadata": {
    "id": "hjcxewrpzcte"
   },
   "source": [
    "## Evaluation of model"
   ]
  },
  {
   "cell_type": "code",
   "execution_count": null,
   "metadata": {
    "colab": {
     "base_uri": "https://localhost:8080/"
    },
    "id": "Gbnr0FtYIEjJ",
    "outputId": "03896b2c-5809-48cc-b154-8c7001d55fbc"
   },
   "outputs": [
    {
     "name": "stdout",
     "output_type": "stream",
     "text": [
      "\u001b[1mAccuracy score : 97.84 %\n",
      "\n",
      "Log loss : 0.75 %\n",
      "\n",
      "Classification Report\n",
      "\n",
      "              precision    recall  f1-score   support\n",
      "\n",
      "           0       0.99      0.97      0.98       369\n",
      "           1       0.97      0.99      0.98       371\n",
      "\n",
      "    accuracy                           0.98       740\n",
      "   macro avg       0.98      0.98      0.98       740\n",
      "weighted avg       0.98      0.98      0.98       740\n",
      "\n"
     ]
    }
   ],
   "source": [
    "from sklearn.metrics import accuracy_score, confusion_matrix, classification_report,log_loss,auc\n",
    "print(f\"\\033[1mAccuracy score : {round(accuracy_score(y_test,y_predict)*100,2)} %\\n\")\n",
    "print(f\"Log loss : {round(log_loss(y_test,y_predict),2)} %\\n\")\n",
    "print(\"Classification Report\\n\")\n",
    "print(classification_report(y_test,y_predict))"
   ]
  },
  {
   "cell_type": "code",
   "execution_count": null,
   "metadata": {
    "colab": {
     "base_uri": "https://localhost:8080/"
    },
    "id": "jRSwrAyBIhqu",
    "outputId": "869fe4cf-42a8-4577-99ee-a20fca9126e4"
   },
   "outputs": [
    {
     "data": {
      "image/png": "[encoded data removed]",
      "text/plain": [
       "<Figure size 720x288 with 4 Axes>"
      ]
     },
     "metadata": {
      "tags": []
     },
     "output_type": "display_data"
    }
   ],
   "source": [
    "\n",
    "from sklearn.metrics import plot_confusion_matrix\n",
    "\n",
    "f,(ax1,ax2) = plt.subplots(1,2,figsize=(10,4))\n",
    "\n",
    "cm1 = plot_confusion_matrix(model, x_test, y_test, cmap=plt.cm.Blues,normalize=None,ax=ax1)\n",
    "cm1.ax_.set_title(\"Confusion matrix, without normalization\\n\",fontsize=15)\n",
    "\n",
    "cm2 = plot_confusion_matrix(model, x_test, y_test, cmap=plt.cm.Blues,normalize=\"true\",ax=ax2)\n",
    "cm2.ax_.set_title(\"Normalized confusion matrix\\n\",fontsize=15)\n",
    "plt.tight_layout(pad=3)\n",
    "\n",
    "plt.show()"
   ]
  },
  {
   "cell_type": "code",
   "execution_count": null,
   "metadata": {
    "colab": {
     "base_uri": "https://localhost:8080/"
    },
    "id": "25txh1JfTLlo",
    "outputId": "a9d04b17-b96e-4b7e-9113-c2ea6ec198f7"
   },
   "outputs": [
    {
     "data": {
      "image/png": "[encoded data removed]",
      "text/plain": [
       "<Figure size 1008x504 with 2 Axes>"
      ]
     },
     "metadata": {
      "tags": []
     },
     "output_type": "display_data"
    }
   ],
   "source": [
    "from sklearn.metrics import roc_curve, roc_auc_score,precision_recall_curve,auc\n",
    "sns.set(rc={\"font.size\":12,\"axes.titlesize\":18,\"axes.labelsize\":18,\"xtick.labelsize\":14,\"ytick.labelsize\":14,\n",
    "            \"legend.fontsize\":12,'axes.grid' : False,'axes.facecolor': 'w','axes.edgecolor':\"0.15\"})\n",
    "plt.figure(figsize=(14,7))\n",
    "plt.subplot(1,2,1)\n",
    "y_predict = model.predict_proba(x_test)[:,1]\n",
    "fpr, tpr, thresholds = roc_curve(y_test,y_predict)\n",
    "plt.title('\\nROC curve for Vaccine Prediction\\n',fontsize=15)\n",
    "plt.xlabel('\\nFalse Positive Rate (1 - Specificity)',fontsize=13)\n",
    "plt.ylabel('True Positive Rate (Sensitivity)\\n',fontsize=13)\n",
    "plt.plot(fpr, tpr,color='green',lw=3)\n",
    "plt.legend(labels=[round(roc_auc_score(y_test,y_predict)*100,2)],loc=8,fontsize=15,title=\"roc_auc score\")\n",
    "\n",
    "plt.subplot(1,2,2)\n",
    "precision, recall, thresholds = precision_recall_curve(y_test, y_predict)\n",
    "plt.plot(recall, precision,color='green',lw=3)\n",
    "plt.xlabel('\\nRecall',fontsize=13)\n",
    "plt.ylabel('Precision\\n',fontsize=13)\n",
    "plt.title('\\nPRC curve\\n',fontsize=15)\n",
    "plt.legend(labels=[round(auc(recall, precision)*100,2)],loc=8,fontsize=15,title=\"auc score\")\n",
    "plt.tight_layout(pad=4)\n",
    "plt.show()\n"
   ]
  },
  {
   "cell_type": "code",
   "execution_count": null,
   "metadata": {
    "colab": {
     "base_uri": "https://localhost:8080/"
    },
    "id": "3Q6nOC-TUUwI",
    "outputId": "55a0ee43-d263-42f4-abd1-98c2033e203a"
   },
   "outputs": [
    {
     "data": {
      "application/vnd.google.colaboratory.intrinsic+json": {
       "type": "string"
      },
      "text/plain": [
       "'\\nimport optuna\\n\\ndef objective(trial):\\n    params = {\\n        \\'n_estimators\\': trial.suggest_int(\\'n_estimators\\', 100, 2000),\\n        #\\'max_depth\\': int(trial.suggest_float(\\'max_depth\\', 10, 100, log=True)),\\n        \\'min_samples_split\\': trial.suggest_int(\\'min_sample_split\\', 2, 6),\\n        \\'min_samples_leaf\\': trial.suggest_int(\\'min_samples_leaf\\', 1, 4,),\\n        \\'max_features\\': trial.suggest_categorical(\\'max_features\\',[\"auto\", \"sqrt\", \"log2\"]),\\n        \\'bootstrap\\':trial.suggest_categorical(\\'bootstrap\\',[True,False]),\\n        \\'random_state\\': trial.suggest_int(\\'random_state\\', 0, 100)\\n        #\\'scale_pos_weight\\': 0.48,\\n       }\\n        \\n    clf = ExtraTreesClassifier(**params)\\n    auccuracies = []\\n    X_train_k = x_train.values\\n    y_train_k = y_train.values\\n    kf = KFold(n_splits=3,random_state=None,shuffle=True)\\n    for train_idx, valid_idx in kf.split(X_train_k,y_train_k):\\n        train_data = X_train_k[train_idx, :], y_train_k[train_idx]\\n        valid_data = X_train_k[valid_idx, :], y_train_k[valid_idx]\\n        \\n        clf.fit(X_train_k[train_idx, :], y_train_k[train_idx])\\n        pred = clf.predict(X_train_k[valid_idx, :])\\n        accuracy = accuracy_score(y_train_k[valid_idx],pred)\\n        auccuracies.append(accuracy)\\n    print(f\\'Trial done: Accuracy values on folds: {auccuracies}\\')\\n    return np.average(auccuracies)\\n\\nfrom sklearn.model_selection import KFold\\nfrom sklearn.metrics import accuracy_score,classification_report,confusion_matrix\\n\\nn_trials = 100\\n\\n#FIT_XGB = True\\n\\n#if FIT_XGB:\\nstudy = optuna.create_study(direction=\"maximize\")\\nstudy.optimize(objective, n_trials=n_trials)\\n\\nprint(\"Number of finished trials: {}\".format(len(study.trials)))\\n\\nprint(\"Best trial:\")\\ntrial = study.best_trial\\n\\nprint(\"  Value: {}\".format(trial.value))\\n\\nprint(\"  Params: \")\\nfor key, value in trial.params.items():\\n  print(\"    {}: {}\".format(key, value))\\n'"
      ]
     },
     "execution_count": 56,
     "metadata": {
      "tags": []
     },
     "output_type": "execute_result"
    }
   ],
   "source": [
    "'''\n",
    "import optuna\n",
    "\n",
    "def objective(trial):\n",
    "    params = {\n",
    "        'n_estimators': trial.suggest_int('n_estimators', 100, 2000),\n",
    "        #'max_depth': int(trial.suggest_float('max_depth', 10, 100, log=True)),\n",
    "        'min_samples_split': trial.suggest_int('min_sample_split', 2, 6),\n",
    "        'min_samples_leaf': trial.suggest_int('min_samples_leaf', 1, 4,),\n",
    "        'max_features': trial.suggest_categorical('max_features',[\"auto\", \"sqrt\", \"log2\"]),\n",
    "        'bootstrap':trial.suggest_categorical('bootstrap',[True,False]),\n",
    "        'random_state': trial.suggest_int('random_state', 0, 100)\n",
    "        #'scale_pos_weight': 0.48,\n",
    "       }\n",
    "        \n",
    "    clf = ExtraTreesClassifier(**params)\n",
    "    auccuracies = []\n",
    "    X_train_k = x_train.values\n",
    "    y_train_k = y_train.values\n",
    "    kf = KFold(n_splits=3,random_state=None,shuffle=True)\n",
    "    for train_idx, valid_idx in kf.split(X_train_k,y_train_k):\n",
    "        train_data = X_train_k[train_idx, :], y_train_k[train_idx]\n",
    "        valid_data = X_train_k[valid_idx, :], y_train_k[valid_idx]\n",
    "        \n",
    "        clf.fit(X_train_k[train_idx, :], y_train_k[train_idx])\n",
    "        pred = clf.predict(X_train_k[valid_idx, :])\n",
    "        accuracy = accuracy_score(y_train_k[valid_idx],pred)\n",
    "        auccuracies.append(accuracy)\n",
    "    print(f'Trial done: Accuracy values on folds: {auccuracies}')\n",
    "    return np.average(auccuracies)\n",
    "\n",
    "from sklearn.model_selection import KFold\n",
    "from sklearn.metrics import accuracy_score,classification_report,confusion_matrix\n",
    "\n",
    "n_trials = 100\n",
    "\n",
    "#FIT_XGB = True\n",
    "\n",
    "#if FIT_XGB:\n",
    "study = optuna.create_study(direction=\"maximize\")\n",
    "study.optimize(objective, n_trials=n_trials)\n",
    "\n",
    "print(\"Number of finished trials: {}\".format(len(study.trials)))\n",
    "\n",
    "print(\"Best trial:\")\n",
    "trial = study.best_trial\n",
    "\n",
    "print(\"  Value: {}\".format(trial.value))\n",
    "\n",
    "print(\"  Params: \")\n",
    "for key, value in trial.params.items():\n",
    "  print(\"    {}: {}\".format(key, value))\n",
    "'''"
   ]
  },
  {
   "cell_type": "markdown",
   "metadata": {
    "id": "yAo4islVz20k"
   },
   "source": [
    "## ML trainning"
   ]
  },
  {
   "cell_type": "code",
   "execution_count": null,
   "metadata": {
    "colab": {
     "base_uri": "https://localhost:8080/"
    },
    "id": "Noc69Gj8UkE6",
    "outputId": "fb4b8941-c0f0-48e8-818b-96fd6dbdd656"
   },
   "outputs": [
    {
     "data": {
      "text/plain": [
       "Attrition\n",
       "0            864\n",
       "1            862\n",
       "dtype: int64"
      ]
     },
     "execution_count": 57,
     "metadata": {
      "tags": []
     },
     "output_type": "execute_result"
    }
   ],
   "source": [
    "from sklearn.ensemble import ExtraTreesClassifier  \n",
    "\n",
    "ec1 = ExtraTreesClassifier(\n",
    "    n_estimators= 100,\n",
    "    max_depth= None,\n",
    "    min_samples_split=2,\n",
    "    min_samples_leaf= 1,\n",
    "    max_features= 'auto',\n",
    "    max_leaf_nodes= None,\n",
    "    bootstrap= False,\n",
    "    random_state=36\n",
    "    \n",
    "     )\n",
    "ec1.fit(x_train,y_train)\n",
    "y_predict3 = ec1.predict(x_test)\n",
    "y_train.value_counts()"
   ]
  },
  {
   "cell_type": "markdown",
   "metadata": {
    "id": "ZeDAEi3IzvpK"
   },
   "source": [
    "## Evaluation of Machine learning model"
   ]
  },
  {
   "cell_type": "code",
   "execution_count": null,
   "metadata": {
    "colab": {
     "base_uri": "https://localhost:8080/"
    },
    "id": "LtedoZkpXfNP",
    "outputId": "8b920ae0-b367-4c41-f645-a8ba5604e14d"
   },
   "outputs": [
    {
     "name": "stdout",
     "output_type": "stream",
     "text": [
      "\u001b[1mAccuracy score : 97.7 %\n",
      "\n",
      "Log loss : 0.79 %\n",
      "\n",
      "Classification Report\n",
      "\n",
      "              precision    recall  f1-score   support\n",
      "\n",
      "           0       0.99      0.96      0.98       369\n",
      "           1       0.96      0.99      0.98       371\n",
      "\n",
      "    accuracy                           0.98       740\n",
      "   macro avg       0.98      0.98      0.98       740\n",
      "weighted avg       0.98      0.98      0.98       740\n",
      "\n"
     ]
    }
   ],
   "source": [
    "from sklearn.metrics import accuracy_score, confusion_matrix, classification_report,log_loss,auc\n",
    "print(f\"\\033[1mAccuracy score : {round(accuracy_score(y_test,y_predict3)*100,2)} %\\n\")\n",
    "print(f\"Log loss : {round(log_loss(y_test,y_predict3),2)} %\\n\")\n",
    "print(\"Classification Report\\n\")\n",
    "print(classification_report(y_test,y_predict3))\n"
   ]
  },
  {
   "cell_type": "code",
   "execution_count": null,
   "metadata": {
    "colab": {
     "base_uri": "https://localhost:8080/",
     "height": 413
    },
    "id": "FOv3tzdCXiAY",
    "outputId": "cea37546-a118-4da5-c15c-c6464d4c4d89"
   },
   "outputs": [
    {
     "data": {
      "image/png": "[encoded data removed]",
      "text/plain": [
       "<Figure size 1080x432 with 4 Axes>"
      ]
     },
     "metadata": {
      "tags": []
     },
     "output_type": "display_data"
    }
   ],
   "source": [
    "from sklearn.metrics import plot_confusion_matrix\n",
    "\n",
    "f,(ax1,ax2) = plt.subplots(1,2,figsize=(15,6))\n",
    "\n",
    "cm1 = plot_confusion_matrix(ec1, x_test, y_test, cmap=plt.cm.Blues,normalize=None,ax=ax1)\n",
    "cm1.ax_.set_title(\"Confusion matrix, without normalization\\n\",fontsize=15)\n",
    "\n",
    "cm2 = plot_confusion_matrix(ec1, x_test, y_test, cmap=plt.cm.Blues,normalize=\"true\",ax=ax2)\n",
    "cm2.ax_.set_title(\"Normalized confusion matrix\\n\",fontsize=15)\n",
    "plt.tight_layout(pad=3)\n",
    "\n",
    "plt.show()"
   ]
  },
  {
   "cell_type": "code",
   "execution_count": null,
   "metadata": {
    "colab": {
     "base_uri": "https://localhost:8080/",
     "height": 439
    },
    "id": "2QvjYBS5Z1aK",
    "outputId": "6153b86d-f8ae-40cb-9262-ca6d327a3671"
   },
   "outputs": [
    {
     "data": {
      "image/png": "[encoded data removed]",
      "text/plain": [
       "<Figure size 1008x504 with 2 Axes>"
      ]
     },
     "metadata": {
      "tags": []
     },
     "output_type": "display_data"
    }
   ],
   "source": [
    "from sklearn.metrics import roc_curve, roc_auc_score,precision_recall_curve,auc\n",
    "plt.figure(figsize=(14,7))\n",
    "plt.subplot(1,2,1)\n",
    "y_predict3 = ec1.predict_proba(x_test)[:,1]\n",
    "fpr, tpr, thresholds = roc_curve(y_test,y_predict3)\n",
    "plt.title('\\nROC curve for Vaccine Prediction\\n',fontsize=15)\n",
    "plt.xlabel('\\nFalse Positive Rate (1 - Specificity)',fontsize=13)\n",
    "plt.ylabel('True Positive Rate (Sensitivity)\\n',fontsize=13)\n",
    "plt.plot(fpr, tpr,color='green',lw=3)\n",
    "plt.legend(labels=[round(roc_auc_score(y_test,y_predict3)*100,2)],loc=8,fontsize=15)\n",
    "\n",
    "plt.subplot(1,2,2)\n",
    "precision, recall, thresholds = precision_recall_curve(y_test, y_predict3)\n",
    "plt.plot(recall, precision,color='green',lw=3)\n",
    "plt.xlabel('\\nRecall',fontsize=13)\n",
    "plt.ylabel('Precision\\n',fontsize=13)\n",
    "plt.title('\\nPRC curve\\n',fontsize=15)\n",
    "plt.legend(labels=[round(auc(recall, precision)*100,2)],loc=8,fontsize=15)\n",
    "plt.tight_layout(pad=4)\n",
    "plt.show()"
   ]
  },
  {
   "cell_type": "code",
   "execution_count": null,
   "metadata": {
    "id": "my5ZewPxfURW"
   },
   "outputs": [],
   "source": [
    "df.to_csv('file2.csv', header=False, index=False) "
   ]
  },
  {
   "cell_type": "code",
   "execution_count": null,
   "metadata": {
    "id": "6dQehS1H0jSg"
   },
   "outputs": [],
   "source": [
    "x[[\"Attrition\"]] = y_over"
   ]
  },
  {
   "cell_type": "code",
   "execution_count": null,
   "metadata": {
    "colab": {
     "base_uri": "https://localhost:8080/",
     "height": 419
    },
    "id": "Zbrkhzs40jtE",
    "outputId": "02a22cc8-823d-4a0a-87c7-37ee4a8f7930"
   },
   "outputs": [
    {
     "data": {
      "text/html": [
       "<div>\n",
       "<style scoped>\n",
       "    .dataframe tbody tr th:only-of-type {\n",
       "        vertical-align: middle;\n",
       "    }\n",
       "\n",
       "    .dataframe tbody tr th {\n",
       "        vertical-align: top;\n",
       "    }\n",
       "\n",
       "    .dataframe thead th {\n",
       "        text-align: right;\n",
       "    }\n",
       "</style>\n",
       "<table border=\"1\" class=\"dataframe\">\n",
       "  <thead>\n",
       "    <tr style=\"text-align: right;\">\n",
       "      <th></th>\n",
       "      <th>Age</th>\n",
       "      <th>DailyRate</th>\n",
       "      <th>DistanceFromHome</th>\n",
       "      <th>EmployeeNumber</th>\n",
       "      <th>HourlyRate</th>\n",
       "      <th>JobLevel</th>\n",
       "      <th>MonthlyIncome</th>\n",
       "      <th>MonthlyRate</th>\n",
       "      <th>NumCompaniesWorked</th>\n",
       "      <th>PercentSalaryHike</th>\n",
       "      <th>TotalWorkingYears</th>\n",
       "      <th>TrainingTimesLastYear</th>\n",
       "      <th>YearsAtCompany</th>\n",
       "      <th>YearsInCurrentRole</th>\n",
       "      <th>YearsSinceLastPromotion</th>\n",
       "      <th>YearsWithCurrManager</th>\n",
       "      <th>Education</th>\n",
       "      <th>EnvironmentSatisfaction</th>\n",
       "      <th>JobInvolvement</th>\n",
       "      <th>JobSatisfaction</th>\n",
       "      <th>PerformanceRating</th>\n",
       "      <th>RelationshipSatisfaction</th>\n",
       "      <th>StockOptionLevel</th>\n",
       "      <th>WorkLifeBalance</th>\n",
       "      <th>BusinessTravel</th>\n",
       "      <th>Department</th>\n",
       "      <th>EducationField</th>\n",
       "      <th>Gender</th>\n",
       "      <th>JobRole</th>\n",
       "      <th>MaritalStatus</th>\n",
       "      <th>OverTime</th>\n",
       "      <th>Attrition</th>\n",
       "    </tr>\n",
       "  </thead>\n",
       "  <tbody>\n",
       "    <tr>\n",
       "      <th>0</th>\n",
       "      <td>0.572709</td>\n",
       "      <td>0.811385</td>\n",
       "      <td>-1.044679</td>\n",
       "      <td>-1.693804</td>\n",
       "      <td>1.418626</td>\n",
       "      <td>0.105221</td>\n",
       "      <td>0.119174</td>\n",
       "      <td>0.677587</td>\n",
       "      <td>1.790124</td>\n",
       "      <td>-1.141068</td>\n",
       "      <td>-0.248875</td>\n",
       "      <td>-0.832528</td>\n",
       "      <td>0.077234</td>\n",
       "      <td>0.152598</td>\n",
       "      <td>-0.946416</td>\n",
       "      <td>0.410463</td>\n",
       "      <td>-0.867967</td>\n",
       "      <td>-0.550799</td>\n",
       "      <td>0.464806</td>\n",
       "      <td>1.229257</td>\n",
       "      <td>-0.434749</td>\n",
       "      <td>-1.515916</td>\n",
       "      <td>-0.791774</td>\n",
       "      <td>-2.237395</td>\n",
       "      <td>0.603822</td>\n",
       "      <td>1.338527</td>\n",
       "      <td>-0.938854</td>\n",
       "      <td>-1.256781</td>\n",
       "      <td>0.974287</td>\n",
       "      <td>1.092260</td>\n",
       "      <td>1.249299</td>\n",
       "      <td>1</td>\n",
       "    </tr>\n",
       "    <tr>\n",
       "      <th>1</th>\n",
       "      <td>1.419983</td>\n",
       "      <td>-1.235273</td>\n",
       "      <td>-0.203105</td>\n",
       "      <td>-1.692123</td>\n",
       "      <td>-0.220007</td>\n",
       "      <td>0.105221</td>\n",
       "      <td>-0.120911</td>\n",
       "      <td>1.431448</td>\n",
       "      <td>-0.729058</td>\n",
       "      <td>2.089866</td>\n",
       "      <td>0.058680</td>\n",
       "      <td>0.182810</td>\n",
       "      <td>0.986349</td>\n",
       "      <td>1.127483</td>\n",
       "      <td>0.005224</td>\n",
       "      <td>0.997587</td>\n",
       "      <td>-1.855240</td>\n",
       "      <td>0.327772</td>\n",
       "      <td>-0.882093</td>\n",
       "      <td>-0.561262</td>\n",
       "      <td>2.300177</td>\n",
       "      <td>1.196891</td>\n",
       "      <td>0.365615</td>\n",
       "      <td>0.367617</td>\n",
       "      <td>-1.009422</td>\n",
       "      <td>-0.524231</td>\n",
       "      <td>-0.938854</td>\n",
       "      <td>0.795684</td>\n",
       "      <td>0.575185</td>\n",
       "      <td>-0.262626</td>\n",
       "      <td>-0.800449</td>\n",
       "      <td>0</td>\n",
       "    </tr>\n",
       "    <tr>\n",
       "      <th>2</th>\n",
       "      <td>0.149072</td>\n",
       "      <td>1.485315</td>\n",
       "      <td>-0.924454</td>\n",
       "      <td>-1.688762</td>\n",
       "      <td>1.319315</td>\n",
       "      <td>-0.828146</td>\n",
       "      <td>-0.903316</td>\n",
       "      <td>-1.694961</td>\n",
       "      <td>1.370261</td>\n",
       "      <td>-0.064090</td>\n",
       "      <td>-0.402652</td>\n",
       "      <td>0.182810</td>\n",
       "      <td>-1.286438</td>\n",
       "      <td>-1.147250</td>\n",
       "      <td>-0.946416</td>\n",
       "      <td>-1.057347</td>\n",
       "      <td>-0.867967</td>\n",
       "      <td>1.206342</td>\n",
       "      <td>-0.882093</td>\n",
       "      <td>0.333998</td>\n",
       "      <td>-0.434749</td>\n",
       "      <td>-0.611647</td>\n",
       "      <td>-0.791774</td>\n",
       "      <td>0.367617</td>\n",
       "      <td>0.603822</td>\n",
       "      <td>-0.524231</td>\n",
       "      <td>1.264013</td>\n",
       "      <td>0.795684</td>\n",
       "      <td>-1.021221</td>\n",
       "      <td>1.092260</td>\n",
       "      <td>1.249299</td>\n",
       "      <td>1</td>\n",
       "    </tr>\n",
       "    <tr>\n",
       "      <th>3</th>\n",
       "      <td>-0.274565</td>\n",
       "      <td>1.532565</td>\n",
       "      <td>-0.804229</td>\n",
       "      <td>-1.687081</td>\n",
       "      <td>-0.468284</td>\n",
       "      <td>-0.828146</td>\n",
       "      <td>-0.738790</td>\n",
       "      <td>1.188679</td>\n",
       "      <td>-0.729058</td>\n",
       "      <td>-1.141068</td>\n",
       "      <td>-0.248875</td>\n",
       "      <td>0.182810</td>\n",
       "      <td>0.531792</td>\n",
       "      <td>1.127483</td>\n",
       "      <td>0.701873</td>\n",
       "      <td>-1.057347</td>\n",
       "      <td>1.106578</td>\n",
       "      <td>1.206342</td>\n",
       "      <td>0.464806</td>\n",
       "      <td>0.333998</td>\n",
       "      <td>-0.434749</td>\n",
       "      <td>0.292622</td>\n",
       "      <td>-0.791774</td>\n",
       "      <td>0.367617</td>\n",
       "      <td>-1.009422</td>\n",
       "      <td>-0.524231</td>\n",
       "      <td>-0.938854</td>\n",
       "      <td>-1.256781</td>\n",
       "      <td>0.575185</td>\n",
       "      <td>-0.262626</td>\n",
       "      <td>1.249299</td>\n",
       "      <td>0</td>\n",
       "    </tr>\n",
       "    <tr>\n",
       "      <th>4</th>\n",
       "      <td>-0.910021</td>\n",
       "      <td>-0.459383</td>\n",
       "      <td>-0.924454</td>\n",
       "      <td>-1.683719</td>\n",
       "      <td>-1.262773</td>\n",
       "      <td>-0.828146</td>\n",
       "      <td>-0.583277</td>\n",
       "      <td>0.282186</td>\n",
       "      <td>1.790124</td>\n",
       "      <td>-0.871824</td>\n",
       "      <td>-0.556429</td>\n",
       "      <td>0.182810</td>\n",
       "      <td>-0.831881</td>\n",
       "      <td>-0.497326</td>\n",
       "      <td>0.399406</td>\n",
       "      <td>-0.470223</td>\n",
       "      <td>-1.855240</td>\n",
       "      <td>-1.429369</td>\n",
       "      <td>0.464806</td>\n",
       "      <td>-0.561262</td>\n",
       "      <td>-0.434749</td>\n",
       "      <td>1.196891</td>\n",
       "      <td>0.365615</td>\n",
       "      <td>0.367617</td>\n",
       "      <td>0.603822</td>\n",
       "      <td>-0.524231</td>\n",
       "      <td>0.529724</td>\n",
       "      <td>0.795684</td>\n",
       "      <td>-1.021221</td>\n",
       "      <td>-0.262626</td>\n",
       "      <td>-0.800449</td>\n",
       "      <td>0</td>\n",
       "    </tr>\n",
       "    <tr>\n",
       "      <th>...</th>\n",
       "      <td>...</td>\n",
       "      <td>...</td>\n",
       "      <td>...</td>\n",
       "      <td>...</td>\n",
       "      <td>...</td>\n",
       "      <td>...</td>\n",
       "      <td>...</td>\n",
       "      <td>...</td>\n",
       "      <td>...</td>\n",
       "      <td>...</td>\n",
       "      <td>...</td>\n",
       "      <td>...</td>\n",
       "      <td>...</td>\n",
       "      <td>...</td>\n",
       "      <td>...</td>\n",
       "      <td>...</td>\n",
       "      <td>...</td>\n",
       "      <td>...</td>\n",
       "      <td>...</td>\n",
       "      <td>...</td>\n",
       "      <td>...</td>\n",
       "      <td>...</td>\n",
       "      <td>...</td>\n",
       "      <td>...</td>\n",
       "      <td>...</td>\n",
       "      <td>...</td>\n",
       "      <td>...</td>\n",
       "      <td>...</td>\n",
       "      <td>...</td>\n",
       "      <td>...</td>\n",
       "      <td>...</td>\n",
       "      <td>...</td>\n",
       "    </tr>\n",
       "    <tr>\n",
       "      <th>2461</th>\n",
       "      <td>-0.698202</td>\n",
       "      <td>0.072798</td>\n",
       "      <td>-1.044679</td>\n",
       "      <td>-0.323966</td>\n",
       "      <td>-1.461395</td>\n",
       "      <td>-0.828146</td>\n",
       "      <td>-0.902927</td>\n",
       "      <td>-1.098734</td>\n",
       "      <td>-0.729058</td>\n",
       "      <td>-1.141068</td>\n",
       "      <td>-1.325315</td>\n",
       "      <td>-0.832528</td>\n",
       "      <td>-1.059160</td>\n",
       "      <td>-1.147250</td>\n",
       "      <td>-0.946416</td>\n",
       "      <td>-1.057347</td>\n",
       "      <td>-0.867967</td>\n",
       "      <td>-0.550799</td>\n",
       "      <td>-0.882093</td>\n",
       "      <td>-1.456521</td>\n",
       "      <td>-0.434749</td>\n",
       "      <td>1.196891</td>\n",
       "      <td>0.365615</td>\n",
       "      <td>0.367617</td>\n",
       "      <td>0.603822</td>\n",
       "      <td>-0.524231</td>\n",
       "      <td>-0.938854</td>\n",
       "      <td>-1.256781</td>\n",
       "      <td>-1.021221</td>\n",
       "      <td>-0.262626</td>\n",
       "      <td>1.249299</td>\n",
       "      <td>1</td>\n",
       "    </tr>\n",
       "    <tr>\n",
       "      <th>2462</th>\n",
       "      <td>0.360890</td>\n",
       "      <td>0.861122</td>\n",
       "      <td>-0.443555</td>\n",
       "      <td>-0.128996</td>\n",
       "      <td>0.226893</td>\n",
       "      <td>-0.828146</td>\n",
       "      <td>-0.879280</td>\n",
       "      <td>-1.430110</td>\n",
       "      <td>1.790124</td>\n",
       "      <td>1.551377</td>\n",
       "      <td>-0.248875</td>\n",
       "      <td>-0.832528</td>\n",
       "      <td>-0.831881</td>\n",
       "      <td>-0.497326</td>\n",
       "      <td>0.399406</td>\n",
       "      <td>-0.470223</td>\n",
       "      <td>0.119305</td>\n",
       "      <td>1.206342</td>\n",
       "      <td>0.464806</td>\n",
       "      <td>-1.456521</td>\n",
       "      <td>2.300177</td>\n",
       "      <td>1.196891</td>\n",
       "      <td>-0.791774</td>\n",
       "      <td>-2.237395</td>\n",
       "      <td>0.603822</td>\n",
       "      <td>-0.524231</td>\n",
       "      <td>0.529724</td>\n",
       "      <td>0.795684</td>\n",
       "      <td>-1.021221</td>\n",
       "      <td>-0.262626</td>\n",
       "      <td>1.249299</td>\n",
       "      <td>1</td>\n",
       "    </tr>\n",
       "    <tr>\n",
       "      <th>2463</th>\n",
       "      <td>-0.698202</td>\n",
       "      <td>0.786517</td>\n",
       "      <td>-1.044679</td>\n",
       "      <td>1.711461</td>\n",
       "      <td>-1.461395</td>\n",
       "      <td>-0.828146</td>\n",
       "      <td>-0.216333</td>\n",
       "      <td>1.600469</td>\n",
       "      <td>1.790124</td>\n",
       "      <td>-0.333335</td>\n",
       "      <td>-0.863984</td>\n",
       "      <td>0.182810</td>\n",
       "      <td>-0.831881</td>\n",
       "      <td>-0.497326</td>\n",
       "      <td>0.399406</td>\n",
       "      <td>-0.470223</td>\n",
       "      <td>1.106578</td>\n",
       "      <td>-1.429369</td>\n",
       "      <td>0.464806</td>\n",
       "      <td>1.229257</td>\n",
       "      <td>-0.434749</td>\n",
       "      <td>-0.611647</td>\n",
       "      <td>2.680393</td>\n",
       "      <td>1.670123</td>\n",
       "      <td>0.603822</td>\n",
       "      <td>-0.524231</td>\n",
       "      <td>0.529724</td>\n",
       "      <td>0.795684</td>\n",
       "      <td>0.575185</td>\n",
       "      <td>-0.262626</td>\n",
       "      <td>1.249299</td>\n",
       "      <td>1</td>\n",
       "    </tr>\n",
       "    <tr>\n",
       "      <th>2464</th>\n",
       "      <td>2.161347</td>\n",
       "      <td>-0.832407</td>\n",
       "      <td>0.518244</td>\n",
       "      <td>-1.424879</td>\n",
       "      <td>0.326204</td>\n",
       "      <td>-0.828146</td>\n",
       "      <td>-0.167370</td>\n",
       "      <td>-1.401361</td>\n",
       "      <td>1.790124</td>\n",
       "      <td>0.743643</td>\n",
       "      <td>-0.402652</td>\n",
       "      <td>-0.832528</td>\n",
       "      <td>-0.150045</td>\n",
       "      <td>0.152598</td>\n",
       "      <td>0.956864</td>\n",
       "      <td>-0.176661</td>\n",
       "      <td>1.106578</td>\n",
       "      <td>-0.550799</td>\n",
       "      <td>0.464806</td>\n",
       "      <td>-0.561262</td>\n",
       "      <td>-0.434749</td>\n",
       "      <td>-1.515916</td>\n",
       "      <td>2.680393</td>\n",
       "      <td>0.367617</td>\n",
       "      <td>0.603822</td>\n",
       "      <td>-0.524231</td>\n",
       "      <td>-0.938854</td>\n",
       "      <td>-1.256781</td>\n",
       "      <td>0.575185</td>\n",
       "      <td>-0.262626</td>\n",
       "      <td>1.249299</td>\n",
       "      <td>1</td>\n",
       "    </tr>\n",
       "    <tr>\n",
       "      <th>2465</th>\n",
       "      <td>-1.015930</td>\n",
       "      <td>1.674314</td>\n",
       "      <td>0.758694</td>\n",
       "      <td>-1.033256</td>\n",
       "      <td>-1.014495</td>\n",
       "      <td>-0.828146</td>\n",
       "      <td>-0.887904</td>\n",
       "      <td>-0.058357</td>\n",
       "      <td>-0.309194</td>\n",
       "      <td>-0.602579</td>\n",
       "      <td>-0.710206</td>\n",
       "      <td>-0.832528</td>\n",
       "      <td>-0.604602</td>\n",
       "      <td>-0.497326</td>\n",
       "      <td>-0.946416</td>\n",
       "      <td>-0.470223</td>\n",
       "      <td>1.106578</td>\n",
       "      <td>-1.429369</td>\n",
       "      <td>0.464806</td>\n",
       "      <td>-0.561262</td>\n",
       "      <td>-0.434749</td>\n",
       "      <td>1.196891</td>\n",
       "      <td>0.365615</td>\n",
       "      <td>0.367617</td>\n",
       "      <td>0.603822</td>\n",
       "      <td>-0.524231</td>\n",
       "      <td>0.529724</td>\n",
       "      <td>0.795684</td>\n",
       "      <td>-1.021221</td>\n",
       "      <td>-1.617511</td>\n",
       "      <td>1.249299</td>\n",
       "      <td>1</td>\n",
       "    </tr>\n",
       "  </tbody>\n",
       "</table>\n",
       "<p>2466 rows × 32 columns</p>\n",
       "</div>"
      ],
      "text/plain": [
       "           Age  DailyRate  DistanceFromHome  ...  MaritalStatus  OverTime  Attrition\n",
       "0     0.572709   0.811385         -1.044679  ...       1.092260  1.249299          1\n",
       "1     1.419983  -1.235273         -0.203105  ...      -0.262626 -0.800449          0\n",
       "2     0.149072   1.485315         -0.924454  ...       1.092260  1.249299          1\n",
       "3    -0.274565   1.532565         -0.804229  ...      -0.262626  1.249299          0\n",
       "4    -0.910021  -0.459383         -0.924454  ...      -0.262626 -0.800449          0\n",
       "...        ...        ...               ...  ...            ...       ...        ...\n",
       "2461 -0.698202   0.072798         -1.044679  ...      -0.262626  1.249299          1\n",
       "2462  0.360890   0.861122         -0.443555  ...      -0.262626  1.249299          1\n",
       "2463 -0.698202   0.786517         -1.044679  ...      -0.262626  1.249299          1\n",
       "2464  2.161347  -0.832407          0.518244  ...      -0.262626  1.249299          1\n",
       "2465 -1.015930   1.674314          0.758694  ...      -1.617511  1.249299          1\n",
       "\n",
       "[2466 rows x 32 columns]"
      ]
     },
     "execution_count": 63,
     "metadata": {
      "tags": []
     },
     "output_type": "execute_result"
    }
   ],
   "source": [
    "x"
   ]
  },
  {
   "cell_type": "code",
   "execution_count": null,
   "metadata": {
    "id": "oBk9VKdD02Ri"
   },
   "outputs": [],
   "source": [
    "x.to_csv('Employattrition.csv', header=True, index=False) "
   ]
  },
  {
   "cell_type": "code",
   "execution_count": null,
   "metadata": {
    "id": "QcCJKy-O2Fjz"
   },
   "outputs": [],
   "source": [
    "feature[[\"Attrition\"]] = y_over"
   ]
  },
  {
   "cell_type": "code",
   "execution_count": null,
   "metadata": {
    "colab": {
     "base_uri": "https://localhost:8080/",
     "height": 399
    },
    "id": "E-y6ffC44fIO",
    "outputId": "d9292196-02bf-4e8b-d447-c9913dd23c2c"
   },
   "outputs": [
    {
     "data": {
      "text/html": [
       "<div>\n",
       "<style scoped>\n",
       "    .dataframe tbody tr th:only-of-type {\n",
       "        vertical-align: middle;\n",
       "    }\n",
       "\n",
       "    .dataframe tbody tr th {\n",
       "        vertical-align: top;\n",
       "    }\n",
       "\n",
       "    .dataframe thead th {\n",
       "        text-align: right;\n",
       "    }\n",
       "</style>\n",
       "<table border=\"1\" class=\"dataframe\">\n",
       "  <thead>\n",
       "    <tr style=\"text-align: right;\">\n",
       "      <th></th>\n",
       "      <th>MonthlyRate</th>\n",
       "      <th>MonthlyIncome</th>\n",
       "      <th>DailyRate</th>\n",
       "      <th>Age</th>\n",
       "      <th>TotalWorkingYears</th>\n",
       "      <th>JobLevel</th>\n",
       "      <th>OverTime</th>\n",
       "      <th>YearsInCurrentRole</th>\n",
       "      <th>HourlyRate</th>\n",
       "      <th>YearsWithCurrManager</th>\n",
       "      <th>Attrition</th>\n",
       "    </tr>\n",
       "  </thead>\n",
       "  <tbody>\n",
       "    <tr>\n",
       "      <th>0</th>\n",
       "      <td>0.677587</td>\n",
       "      <td>0.119174</td>\n",
       "      <td>0.811385</td>\n",
       "      <td>0.572709</td>\n",
       "      <td>-0.248875</td>\n",
       "      <td>0.105221</td>\n",
       "      <td>1.249299</td>\n",
       "      <td>0.152598</td>\n",
       "      <td>1.418626</td>\n",
       "      <td>0.410463</td>\n",
       "      <td>1</td>\n",
       "    </tr>\n",
       "    <tr>\n",
       "      <th>1</th>\n",
       "      <td>1.431448</td>\n",
       "      <td>-0.120911</td>\n",
       "      <td>-1.235273</td>\n",
       "      <td>1.419983</td>\n",
       "      <td>0.058680</td>\n",
       "      <td>0.105221</td>\n",
       "      <td>-0.800449</td>\n",
       "      <td>1.127483</td>\n",
       "      <td>-0.220007</td>\n",
       "      <td>0.997587</td>\n",
       "      <td>0</td>\n",
       "    </tr>\n",
       "    <tr>\n",
       "      <th>2</th>\n",
       "      <td>-1.694961</td>\n",
       "      <td>-0.903316</td>\n",
       "      <td>1.485315</td>\n",
       "      <td>0.149072</td>\n",
       "      <td>-0.402652</td>\n",
       "      <td>-0.828146</td>\n",
       "      <td>1.249299</td>\n",
       "      <td>-1.147250</td>\n",
       "      <td>1.319315</td>\n",
       "      <td>-1.057347</td>\n",
       "      <td>1</td>\n",
       "    </tr>\n",
       "    <tr>\n",
       "      <th>3</th>\n",
       "      <td>1.188679</td>\n",
       "      <td>-0.738790</td>\n",
       "      <td>1.532565</td>\n",
       "      <td>-0.274565</td>\n",
       "      <td>-0.248875</td>\n",
       "      <td>-0.828146</td>\n",
       "      <td>1.249299</td>\n",
       "      <td>1.127483</td>\n",
       "      <td>-0.468284</td>\n",
       "      <td>-1.057347</td>\n",
       "      <td>0</td>\n",
       "    </tr>\n",
       "    <tr>\n",
       "      <th>4</th>\n",
       "      <td>0.282186</td>\n",
       "      <td>-0.583277</td>\n",
       "      <td>-0.459383</td>\n",
       "      <td>-0.910021</td>\n",
       "      <td>-0.556429</td>\n",
       "      <td>-0.828146</td>\n",
       "      <td>-0.800449</td>\n",
       "      <td>-0.497326</td>\n",
       "      <td>-1.262773</td>\n",
       "      <td>-0.470223</td>\n",
       "      <td>0</td>\n",
       "    </tr>\n",
       "    <tr>\n",
       "      <th>...</th>\n",
       "      <td>...</td>\n",
       "      <td>...</td>\n",
       "      <td>...</td>\n",
       "      <td>...</td>\n",
       "      <td>...</td>\n",
       "      <td>...</td>\n",
       "      <td>...</td>\n",
       "      <td>...</td>\n",
       "      <td>...</td>\n",
       "      <td>...</td>\n",
       "      <td>...</td>\n",
       "    </tr>\n",
       "    <tr>\n",
       "      <th>2461</th>\n",
       "      <td>-1.098734</td>\n",
       "      <td>-0.902927</td>\n",
       "      <td>0.072798</td>\n",
       "      <td>-0.698202</td>\n",
       "      <td>-1.325315</td>\n",
       "      <td>-0.828146</td>\n",
       "      <td>1.249299</td>\n",
       "      <td>-1.147250</td>\n",
       "      <td>-1.461395</td>\n",
       "      <td>-1.057347</td>\n",
       "      <td>1</td>\n",
       "    </tr>\n",
       "    <tr>\n",
       "      <th>2462</th>\n",
       "      <td>-1.430110</td>\n",
       "      <td>-0.879280</td>\n",
       "      <td>0.861122</td>\n",
       "      <td>0.360890</td>\n",
       "      <td>-0.248875</td>\n",
       "      <td>-0.828146</td>\n",
       "      <td>1.249299</td>\n",
       "      <td>-0.497326</td>\n",
       "      <td>0.226893</td>\n",
       "      <td>-0.470223</td>\n",
       "      <td>1</td>\n",
       "    </tr>\n",
       "    <tr>\n",
       "      <th>2463</th>\n",
       "      <td>1.600469</td>\n",
       "      <td>-0.216333</td>\n",
       "      <td>0.786517</td>\n",
       "      <td>-0.698202</td>\n",
       "      <td>-0.863984</td>\n",
       "      <td>-0.828146</td>\n",
       "      <td>1.249299</td>\n",
       "      <td>-0.497326</td>\n",
       "      <td>-1.461395</td>\n",
       "      <td>-0.470223</td>\n",
       "      <td>1</td>\n",
       "    </tr>\n",
       "    <tr>\n",
       "      <th>2464</th>\n",
       "      <td>-1.401361</td>\n",
       "      <td>-0.167370</td>\n",
       "      <td>-0.832407</td>\n",
       "      <td>2.161347</td>\n",
       "      <td>-0.402652</td>\n",
       "      <td>-0.828146</td>\n",
       "      <td>1.249299</td>\n",
       "      <td>0.152598</td>\n",
       "      <td>0.326204</td>\n",
       "      <td>-0.176661</td>\n",
       "      <td>1</td>\n",
       "    </tr>\n",
       "    <tr>\n",
       "      <th>2465</th>\n",
       "      <td>-0.058357</td>\n",
       "      <td>-0.887904</td>\n",
       "      <td>1.674314</td>\n",
       "      <td>-1.015930</td>\n",
       "      <td>-0.710206</td>\n",
       "      <td>-0.828146</td>\n",
       "      <td>1.249299</td>\n",
       "      <td>-0.497326</td>\n",
       "      <td>-1.014495</td>\n",
       "      <td>-0.470223</td>\n",
       "      <td>1</td>\n",
       "    </tr>\n",
       "  </tbody>\n",
       "</table>\n",
       "<p>2466 rows × 11 columns</p>\n",
       "</div>"
      ],
      "text/plain": [
       "      MonthlyRate  MonthlyIncome  ...  YearsWithCurrManager  Attrition\n",
       "0        0.677587       0.119174  ...              0.410463          1\n",
       "1        1.431448      -0.120911  ...              0.997587          0\n",
       "2       -1.694961      -0.903316  ...             -1.057347          1\n",
       "3        1.188679      -0.738790  ...             -1.057347          0\n",
       "4        0.282186      -0.583277  ...             -0.470223          0\n",
       "...           ...            ...  ...                   ...        ...\n",
       "2461    -1.098734      -0.902927  ...             -1.057347          1\n",
       "2462    -1.430110      -0.879280  ...             -0.470223          1\n",
       "2463     1.600469      -0.216333  ...             -0.470223          1\n",
       "2464    -1.401361      -0.167370  ...             -0.176661          1\n",
       "2465    -0.058357      -0.887904  ...             -0.470223          1\n",
       "\n",
       "[2466 rows x 11 columns]"
      ]
     },
     "execution_count": 66,
     "metadata": {
      "tags": []
     },
     "output_type": "execute_result"
    }
   ],
   "source": [
    "feature"
   ]
  },
  {
   "cell_type": "code",
   "execution_count": null,
   "metadata": {
    "id": "qYVswJbt4vYx"
   },
   "outputs": [],
   "source": [
    "feature.to_csv(\"Data.csv\",index=False,header=True)"
   ]
  },
  {
   "cell_type": "code",
   "execution_count": null,
   "metadata": {
    "colab": {
     "base_uri": "https://localhost:8080/"
    },
    "id": "EDVT8wJY47HX",
    "outputId": "9334f117-ef21-4a74-ac95-42dc8d189dec"
   },
   "outputs": [
    {
     "data": {
      "text/plain": [
       "Index(['MonthlyRate', 'MonthlyIncome', 'DailyRate', 'Age', 'TotalWorkingYears',\n",
       "       'JobLevel', 'OverTime', 'YearsInCurrentRole', 'HourlyRate',\n",
       "       'YearsWithCurrManager', 'Attrition'],\n",
       "      dtype='object')"
      ]
     },
     "execution_count": 68,
     "metadata": {
      "tags": []
     },
     "output_type": "execute_result"
    }
   ],
   "source": [
    "feature.columns"
   ]
  },
  {
   "cell_type": "code",
   "execution_count": null,
   "metadata": {
    "colab": {
     "base_uri": "https://localhost:8080/"
    },
    "id": "gbowKFKy69Pk",
    "outputId": "3d4abdc6-d939-48bc-f28f-56b0715f4420"
   },
   "outputs": [
    {
     "data": {
      "text/plain": [
       "0.14"
      ]
     },
     "execution_count": 83,
     "metadata": {
      "tags": []
     },
     "output_type": "execute_result"
    }
   ],
   "source": [
    "ec1.predict_proba([[1200,42000,1200,23,0,1,0,0,200,0]])[:,1][0]"
   ]
  },
  {
   "cell_type": "code",
   "execution_count": null,
   "metadata": {
    "id": "jVpnIcTGnjUG"
   },
   "outputs": [],
   "source": []
  }
 ],
 "metadata": {
  "colab": {
   "name": "Employee attrition.ipynb",
   "provenance": []
  },
  "kernelspec": {
   "display_name": "Python 3",
   "language": "python",
   "name": "python3"
  },
  "language_info": {
   "codemirror_mode": {
    "name": "ipython",
    "version": 3
   },
   "file_extension": ".py",
   "mimetype": "text/x-python",
   "name": "python",
   "nbconvert_exporter": "python",
   "pygments_lexer": "ipython3",
   "version": "3.8.5"
  }
 },
 "nbformat": 4,
 "nbformat_minor": 1
}
